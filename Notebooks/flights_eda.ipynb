{
 "cells": [
  {
   "cell_type": "markdown",
   "metadata": {},
   "source": [
    "# 🧭 **Exploratory Data Analysis (EDA): Flights Dataset**\n",
    "\n",
    "This notebook marks the **Exploratory Data Analysis (EDA)** phase within our **Travel MLOps Project**. Our focus is the **Flights dataset**, which we will dissect to uncover critical insights, identify data quality issues, and lay a robust groundwork for developing our **Flight Price Prediction Model**.\n",
    "\n",
    "🎯 **Primary Goal of this EDA**:\n",
    "To gather the necessary understanding and insights to construct a high-performing **Regression Model** capable of accurately predicting flight prices. This model will leverage key features including distance, time, flight class, agency, and travel route.\n",
    "\n",
    "---\n",
    "\n",
    "## 📦 **Dataset At a Glance: Flights**\n",
    "\n",
    "The **Flights dataset** provides structured records of user flight bookings. It encompasses details on travel routes, flight characteristics, pricing (our target variable), and booking agencies.\n",
    "\n",
    "| Column       | Description                                     |\n",
    "|--------------|-------------------------------------------------|\n",
    "| `travelCode` | Unique identifier for each travel itinerary     |\n",
    "| `userCode`   | Identifier for the user (links to Users table)  |\n",
    "| `from`       | Origin city/airport of the flight               |\n",
    "| `to`         | Destination city/airport of the flight          |\n",
    "| `flightType` | Service class of the flight (e.g., Economy, First Class) |\n",
    "| `price`      | **Target Variable**: Cost of the flight (USD)   |\n",
    "| `time`       | Flight duration (in hours)                      |\n",
    "| `distance`   | Flight distance (e.g., in kilometers or miles)  |\n",
    "| `agency`     | Airline or travel agency facilitating the booking|\n",
    "| `date`       | Date of the flight departure                    |\n",
    "\n",
    "---\n",
    "\n",
    "## 🎯 **Key Objectives of this Analysis**\n",
    "\n",
    "This EDA serves several critical functions in our model development lifecycle:\n",
    "\n",
    "-   **Deep Dive into Data Structure:** We will thoroughly examine the dataset's schema, data types, and the distributions of categorical and numerical features.\n",
    "-   **Pinpoint Data Quality Concerns:** Our investigation will focus on identifying and quantifying issues such as missing values, outliers, anomalies, and duplicate records.\n",
    "-   **Evaluate Feature Relationships and Importance:** We aim to understand how each feature correlates with the target variable (`price`) and with other features, highlighting potential predictors.\n",
    "-   **Inform Preprocessing and Feature Engineering:** The insights gained will directly guide the strategies for data cleaning, transformation, feature selection, and the creation of new, impactful features for the **Flight Price Prediction Model**.\n",
    "\n",
    "---\n",
    "\n",
    "## 🔍 **Analytical Approach**\n",
    "\n",
    "Our exploration of the Flights dataset will involve a comprehensive analysis using descriptive statistics, various data visualizations (histograms, scatter plots, box plots), and correlation studies.\n",
    "\n",
    "The findings from this process are crucial, as they will directly inform our **feature selection criteria, data transformation techniques, and the overall design of our model training pipeline**, all aimed at achieving accurate flight price predictions.\n",
    "\n",
    "> Given the manageable number of features in this dataset, we will employ a thorough visualization strategy. This includes generating pair plots for numerical features, frequency plots for categorical features, and comparative plots (like box plots) across numerical and categorical feature combinations. This ensures a comprehensive understanding of inter-feature relationships and patterns.\n",
    "\n",
    "Let's dive into the data!"
   ]
  },
  {
   "cell_type": "markdown",
   "metadata": {},
   "source": [
    "### **Import Necessary Libraries and Packages**"
   ]
  },
  {
   "cell_type": "code",
   "execution_count": 24,
   "metadata": {},
   "outputs": [],
   "source": [
    "import pandas as pd\n",
    "import numpy as np\n",
    "from ydata_profiling import ProfileReport\n",
    "import matplotlib.pyplot as plt\n",
    "\n",
    "%matplotlib inline\n",
    "import seaborn as sns\n",
    "import os\n",
    "\n",
    "from sklearn.model_selection import train_test_split\n"
   ]
  },
  {
   "cell_type": "code",
   "execution_count": 25,
   "metadata": {},
   "outputs": [],
   "source": [
    "# Move to the parent directory\n",
    "import sys\n",
    "\n",
    "sys.path.append(\"../\")\n",
    "\n",
    "import utils\n",
    "import importlib\n",
    "\n",
    "importlib.reload(utils)  # Force reload\n",
    "\n",
    "from utils.data_utils import (\n",
    "    check_duplicates,\n",
    "    generate_eda_report,\n",
    "    get_date_stats,\n",
    "    plot_date_frequency_bar,\n",
    "    get_date_stats,\n",
    ")"
   ]
  },
  {
   "cell_type": "code",
   "execution_count": 26,
   "metadata": {},
   "outputs": [
    {
     "name": "stdout",
     "output_type": "stream",
     "text": [
      "['ProfileReport', 'Settings', '__builtins__', '__cached__', '__doc__', '__file__', '__loader__', '__name__', '__package__', '__spec__', 'check_duplicates', 'generate_eda_report', 'get_date_stats', 'mdates', 'np', 'pd', 'plot_date_frequency_bar', 'plt', 'train_test_split']\n"
     ]
    }
   ],
   "source": [
    "print(dir(utils.data_utils))\n"
   ]
  },
  {
   "cell_type": "markdown",
   "metadata": {},
   "source": [
    "### **Load The Dataset**"
   ]
  },
  {
   "cell_type": "code",
   "execution_count": 27,
   "metadata": {},
   "outputs": [],
   "source": [
    "flights_path = \"../data/flights.csv\"\n",
    "# Load the dataset\n",
    "flights = pd.read_csv(flights_path)"
   ]
  },
  {
   "cell_type": "code",
   "execution_count": 28,
   "metadata": {},
   "outputs": [
    {
     "data": {
      "text/html": [
       "<div>\n",
       "<style scoped>\n",
       "    .dataframe tbody tr th:only-of-type {\n",
       "        vertical-align: middle;\n",
       "    }\n",
       "\n",
       "    .dataframe tbody tr th {\n",
       "        vertical-align: top;\n",
       "    }\n",
       "\n",
       "    .dataframe thead th {\n",
       "        text-align: right;\n",
       "    }\n",
       "</style>\n",
       "<table border=\"1\" class=\"dataframe\">\n",
       "  <thead>\n",
       "    <tr style=\"text-align: right;\">\n",
       "      <th></th>\n",
       "      <th>travelCode</th>\n",
       "      <th>userCode</th>\n",
       "      <th>from</th>\n",
       "      <th>to</th>\n",
       "      <th>flightType</th>\n",
       "      <th>price</th>\n",
       "      <th>time</th>\n",
       "      <th>distance</th>\n",
       "      <th>agency</th>\n",
       "      <th>date</th>\n",
       "    </tr>\n",
       "  </thead>\n",
       "  <tbody>\n",
       "    <tr>\n",
       "      <th>0</th>\n",
       "      <td>0</td>\n",
       "      <td>0</td>\n",
       "      <td>Recife (PE)</td>\n",
       "      <td>Florianopolis (SC)</td>\n",
       "      <td>firstClass</td>\n",
       "      <td>1434.38</td>\n",
       "      <td>1.76</td>\n",
       "      <td>676.53</td>\n",
       "      <td>FlyingDrops</td>\n",
       "      <td>09/26/2019</td>\n",
       "    </tr>\n",
       "    <tr>\n",
       "      <th>1</th>\n",
       "      <td>0</td>\n",
       "      <td>0</td>\n",
       "      <td>Florianopolis (SC)</td>\n",
       "      <td>Recife (PE)</td>\n",
       "      <td>firstClass</td>\n",
       "      <td>1292.29</td>\n",
       "      <td>1.76</td>\n",
       "      <td>676.53</td>\n",
       "      <td>FlyingDrops</td>\n",
       "      <td>09/30/2019</td>\n",
       "    </tr>\n",
       "    <tr>\n",
       "      <th>2</th>\n",
       "      <td>1</td>\n",
       "      <td>0</td>\n",
       "      <td>Brasilia (DF)</td>\n",
       "      <td>Florianopolis (SC)</td>\n",
       "      <td>firstClass</td>\n",
       "      <td>1487.52</td>\n",
       "      <td>1.66</td>\n",
       "      <td>637.56</td>\n",
       "      <td>CloudFy</td>\n",
       "      <td>10/03/2019</td>\n",
       "    </tr>\n",
       "    <tr>\n",
       "      <th>3</th>\n",
       "      <td>1</td>\n",
       "      <td>0</td>\n",
       "      <td>Florianopolis (SC)</td>\n",
       "      <td>Brasilia (DF)</td>\n",
       "      <td>firstClass</td>\n",
       "      <td>1127.36</td>\n",
       "      <td>1.66</td>\n",
       "      <td>637.56</td>\n",
       "      <td>CloudFy</td>\n",
       "      <td>10/04/2019</td>\n",
       "    </tr>\n",
       "    <tr>\n",
       "      <th>4</th>\n",
       "      <td>2</td>\n",
       "      <td>0</td>\n",
       "      <td>Aracaju (SE)</td>\n",
       "      <td>Salvador (BH)</td>\n",
       "      <td>firstClass</td>\n",
       "      <td>1684.05</td>\n",
       "      <td>2.16</td>\n",
       "      <td>830.86</td>\n",
       "      <td>CloudFy</td>\n",
       "      <td>10/10/2019</td>\n",
       "    </tr>\n",
       "  </tbody>\n",
       "</table>\n",
       "</div>"
      ],
      "text/plain": [
       "   travelCode  userCode                from                  to  flightType  \\\n",
       "0           0         0         Recife (PE)  Florianopolis (SC)  firstClass   \n",
       "1           0         0  Florianopolis (SC)         Recife (PE)  firstClass   \n",
       "2           1         0       Brasilia (DF)  Florianopolis (SC)  firstClass   \n",
       "3           1         0  Florianopolis (SC)       Brasilia (DF)  firstClass   \n",
       "4           2         0        Aracaju (SE)       Salvador (BH)  firstClass   \n",
       "\n",
       "     price  time  distance       agency        date  \n",
       "0  1434.38  1.76    676.53  FlyingDrops  09/26/2019  \n",
       "1  1292.29  1.76    676.53  FlyingDrops  09/30/2019  \n",
       "2  1487.52  1.66    637.56      CloudFy  10/03/2019  \n",
       "3  1127.36  1.66    637.56      CloudFy  10/04/2019  \n",
       "4  1684.05  2.16    830.86      CloudFy  10/10/2019  "
      ]
     },
     "execution_count": 28,
     "metadata": {},
     "output_type": "execute_result"
    }
   ],
   "source": [
    "flights.head()"
   ]
  },
  {
   "cell_type": "markdown",
   "metadata": {},
   "source": [
    "### **Checking Duplicates**"
   ]
  },
  {
   "cell_type": "code",
   "execution_count": 29,
   "metadata": {},
   "outputs": [
    {
     "name": "stdout",
     "output_type": "stream",
     "text": [
      "Percentage of rows involved in duplication: 0.00%\n"
     ]
    }
   ],
   "source": [
    "check_duplicates(flights)"
   ]
  },
  {
   "cell_type": "markdown",
   "metadata": {},
   "source": [
    "### **Relevance of `travelCode` and `userCode` in EDA**\n",
    "\n",
    "The `travelCode` and `userCode` columns primarily serve as identifiers.\n",
    "\n",
    "*   **`travelCode`**: This links related flight segments, such as an outbound and its corresponding return trip. For example:\n",
    "\n",
    "    | travelCode | userCode | from             | to                 | date       |\n",
    "    |------------|----------|------------------|--------------------|------------|\n",
    "    | 0          | 0        | Recife (PE)      | Florianopolis (SC) | 09/26/2019 |\n",
    "    | 0          | 0        | Florianopolis (SC)| Recife (PE)        | 09/30/2019 |\n",
    "\n",
    "*   **`userCode`**: This links flights to specific users, enabling connections to the `users.csv` data.\n",
    "\n",
    "*   It's possible for different `travelCode` or `userCode` entries to correspond to flights with identical details (route, price, time, distance, agency). This can happen if multiple users book the same flight. Including these identifiers directly in analyses focused on flight attributes without aggregation could potentially cause **Bias** in a model by over-representing frequently booked flight configurations."
   ]
  },
  {
   "cell_type": "code",
   "execution_count": 30,
   "metadata": {},
   "outputs": [],
   "source": [
    "# Drop keys\n",
    "flights.drop(columns=[\"travelCode\", \"userCode\"], inplace=True)"
   ]
  },
  {
   "cell_type": "code",
   "execution_count": 31,
   "metadata": {},
   "outputs": [
    {
     "data": {
      "text/html": [
       "<div>\n",
       "<style scoped>\n",
       "    .dataframe tbody tr th:only-of-type {\n",
       "        vertical-align: middle;\n",
       "    }\n",
       "\n",
       "    .dataframe tbody tr th {\n",
       "        vertical-align: top;\n",
       "    }\n",
       "\n",
       "    .dataframe thead th {\n",
       "        text-align: right;\n",
       "    }\n",
       "</style>\n",
       "<table border=\"1\" class=\"dataframe\">\n",
       "  <thead>\n",
       "    <tr style=\"text-align: right;\">\n",
       "      <th></th>\n",
       "      <th>from</th>\n",
       "      <th>to</th>\n",
       "      <th>flightType</th>\n",
       "      <th>price</th>\n",
       "      <th>time</th>\n",
       "      <th>distance</th>\n",
       "      <th>agency</th>\n",
       "      <th>date</th>\n",
       "    </tr>\n",
       "  </thead>\n",
       "  <tbody>\n",
       "    <tr>\n",
       "      <th>0</th>\n",
       "      <td>Recife (PE)</td>\n",
       "      <td>Florianopolis (SC)</td>\n",
       "      <td>firstClass</td>\n",
       "      <td>1434.38</td>\n",
       "      <td>1.76</td>\n",
       "      <td>676.53</td>\n",
       "      <td>FlyingDrops</td>\n",
       "      <td>09/26/2019</td>\n",
       "    </tr>\n",
       "    <tr>\n",
       "      <th>1</th>\n",
       "      <td>Florianopolis (SC)</td>\n",
       "      <td>Recife (PE)</td>\n",
       "      <td>firstClass</td>\n",
       "      <td>1292.29</td>\n",
       "      <td>1.76</td>\n",
       "      <td>676.53</td>\n",
       "      <td>FlyingDrops</td>\n",
       "      <td>09/30/2019</td>\n",
       "    </tr>\n",
       "    <tr>\n",
       "      <th>2</th>\n",
       "      <td>Brasilia (DF)</td>\n",
       "      <td>Florianopolis (SC)</td>\n",
       "      <td>firstClass</td>\n",
       "      <td>1487.52</td>\n",
       "      <td>1.66</td>\n",
       "      <td>637.56</td>\n",
       "      <td>CloudFy</td>\n",
       "      <td>10/03/2019</td>\n",
       "    </tr>\n",
       "    <tr>\n",
       "      <th>3</th>\n",
       "      <td>Florianopolis (SC)</td>\n",
       "      <td>Brasilia (DF)</td>\n",
       "      <td>firstClass</td>\n",
       "      <td>1127.36</td>\n",
       "      <td>1.66</td>\n",
       "      <td>637.56</td>\n",
       "      <td>CloudFy</td>\n",
       "      <td>10/04/2019</td>\n",
       "    </tr>\n",
       "    <tr>\n",
       "      <th>4</th>\n",
       "      <td>Aracaju (SE)</td>\n",
       "      <td>Salvador (BH)</td>\n",
       "      <td>firstClass</td>\n",
       "      <td>1684.05</td>\n",
       "      <td>2.16</td>\n",
       "      <td>830.86</td>\n",
       "      <td>CloudFy</td>\n",
       "      <td>10/10/2019</td>\n",
       "    </tr>\n",
       "  </tbody>\n",
       "</table>\n",
       "</div>"
      ],
      "text/plain": [
       "                 from                  to  flightType    price  time  \\\n",
       "0         Recife (PE)  Florianopolis (SC)  firstClass  1434.38  1.76   \n",
       "1  Florianopolis (SC)         Recife (PE)  firstClass  1292.29  1.76   \n",
       "2       Brasilia (DF)  Florianopolis (SC)  firstClass  1487.52  1.66   \n",
       "3  Florianopolis (SC)       Brasilia (DF)  firstClass  1127.36  1.66   \n",
       "4        Aracaju (SE)       Salvador (BH)  firstClass  1684.05  2.16   \n",
       "\n",
       "   distance       agency        date  \n",
       "0    676.53  FlyingDrops  09/26/2019  \n",
       "1    676.53  FlyingDrops  09/30/2019  \n",
       "2    637.56      CloudFy  10/03/2019  \n",
       "3    637.56      CloudFy  10/04/2019  \n",
       "4    830.86      CloudFy  10/10/2019  "
      ]
     },
     "execution_count": 31,
     "metadata": {},
     "output_type": "execute_result"
    }
   ],
   "source": [
    "flights.head()"
   ]
  },
  {
   "cell_type": "markdown",
   "metadata": {},
   "source": [
    "### **Checking And Handling duplicate values after removing unique identifiers(`travelCode` and `userCode`)**\n"
   ]
  },
  {
   "cell_type": "code",
   "execution_count": 32,
   "metadata": {},
   "outputs": [
    {
     "name": "stdout",
     "output_type": "stream",
     "text": [
      "Percentage of rows involved in duplication: 45.02%\n"
     ]
    }
   ],
   "source": [
    "check_duplicates(flights)\n"
   ]
  },
  {
   "cell_type": "markdown",
   "metadata": {},
   "source": [
    "- This suggest many of the duplicates were hidded due to unique identifiers"
   ]
  },
  {
   "cell_type": "code",
   "execution_count": 33,
   "metadata": {},
   "outputs": [
    {
     "name": "stdout",
     "output_type": "stream",
     "text": [
      "Percentage of rows involved in duplication: 0.00%\n"
     ]
    }
   ],
   "source": [
    "# remove duplicates\n",
    "flights.drop_duplicates(inplace=True)\n",
    "check_duplicates(flights)\n"
   ]
  },
  {
   "cell_type": "markdown",
   "metadata": {},
   "source": [
    "### ✈️ **Addressing Duplicate Flight Records**\n",
    "\n",
    "Our analysis revealed a significant number of duplicate entries within the dataset:\n",
    "\n",
    "-   **Substantial Duplicate Presence:**\n",
    "    Approximately **45.02%** of the flight records were identified as duplicates. This high percentage is attributed to multiple unique `travelCode` and `userCode` entries corresponding to identical flight details (route, timing, price, etc.), likely representing different bookings for the same underlying flight service.\n",
    "\n",
    "-   **Critical Preprocessing Step: Duplicate Removal:**\n",
    "    🚮 It is crucial to **remove these duplicate records** before proceeding with further analysis or model training.\n",
    "    -   **Impact on Analysis:** Retaining duplicates would skew descriptive statistics and visualizations, leading to inaccurate interpretations of flight patterns and pricing.\n",
    "    -   **Impact on Modeling:** For machine learning, these duplicates can introduce significant bias, leading to an overestimation of model performance on seen data and poor generalization to new, unseen flight queries. Removing them ensures model integrity and more reliable predictions.\n",
    "\n",
    "---"
   ]
  },
  {
   "cell_type": "markdown",
   "metadata": {},
   "source": [
    "### 📑 **Automated EDA with `ydata-profiling`**"
   ]
  },
  {
   "cell_type": "code",
   "execution_count": 34,
   "metadata": {},
   "outputs": [
    {
     "data": {
      "text/html": [
       "<div>\n",
       "<style scoped>\n",
       "    .dataframe tbody tr th:only-of-type {\n",
       "        vertical-align: middle;\n",
       "    }\n",
       "\n",
       "    .dataframe tbody tr th {\n",
       "        vertical-align: top;\n",
       "    }\n",
       "\n",
       "    .dataframe thead th {\n",
       "        text-align: right;\n",
       "    }\n",
       "</style>\n",
       "<table border=\"1\" class=\"dataframe\">\n",
       "  <thead>\n",
       "    <tr style=\"text-align: right;\">\n",
       "      <th></th>\n",
       "      <th>from</th>\n",
       "      <th>to</th>\n",
       "      <th>flightType</th>\n",
       "      <th>price</th>\n",
       "      <th>time</th>\n",
       "      <th>distance</th>\n",
       "      <th>agency</th>\n",
       "      <th>date</th>\n",
       "    </tr>\n",
       "  </thead>\n",
       "  <tbody>\n",
       "    <tr>\n",
       "      <th>0</th>\n",
       "      <td>Recife (PE)</td>\n",
       "      <td>Florianopolis (SC)</td>\n",
       "      <td>firstClass</td>\n",
       "      <td>1434.38</td>\n",
       "      <td>1.76</td>\n",
       "      <td>676.53</td>\n",
       "      <td>FlyingDrops</td>\n",
       "      <td>09/26/2019</td>\n",
       "    </tr>\n",
       "    <tr>\n",
       "      <th>1</th>\n",
       "      <td>Florianopolis (SC)</td>\n",
       "      <td>Recife (PE)</td>\n",
       "      <td>firstClass</td>\n",
       "      <td>1292.29</td>\n",
       "      <td>1.76</td>\n",
       "      <td>676.53</td>\n",
       "      <td>FlyingDrops</td>\n",
       "      <td>09/30/2019</td>\n",
       "    </tr>\n",
       "    <tr>\n",
       "      <th>2</th>\n",
       "      <td>Brasilia (DF)</td>\n",
       "      <td>Florianopolis (SC)</td>\n",
       "      <td>firstClass</td>\n",
       "      <td>1487.52</td>\n",
       "      <td>1.66</td>\n",
       "      <td>637.56</td>\n",
       "      <td>CloudFy</td>\n",
       "      <td>10/03/2019</td>\n",
       "    </tr>\n",
       "    <tr>\n",
       "      <th>3</th>\n",
       "      <td>Florianopolis (SC)</td>\n",
       "      <td>Brasilia (DF)</td>\n",
       "      <td>firstClass</td>\n",
       "      <td>1127.36</td>\n",
       "      <td>1.66</td>\n",
       "      <td>637.56</td>\n",
       "      <td>CloudFy</td>\n",
       "      <td>10/04/2019</td>\n",
       "    </tr>\n",
       "    <tr>\n",
       "      <th>4</th>\n",
       "      <td>Aracaju (SE)</td>\n",
       "      <td>Salvador (BH)</td>\n",
       "      <td>firstClass</td>\n",
       "      <td>1684.05</td>\n",
       "      <td>2.16</td>\n",
       "      <td>830.86</td>\n",
       "      <td>CloudFy</td>\n",
       "      <td>10/10/2019</td>\n",
       "    </tr>\n",
       "  </tbody>\n",
       "</table>\n",
       "</div>"
      ],
      "text/plain": [
       "                 from                  to  flightType    price  time  \\\n",
       "0         Recife (PE)  Florianopolis (SC)  firstClass  1434.38  1.76   \n",
       "1  Florianopolis (SC)         Recife (PE)  firstClass  1292.29  1.76   \n",
       "2       Brasilia (DF)  Florianopolis (SC)  firstClass  1487.52  1.66   \n",
       "3  Florianopolis (SC)       Brasilia (DF)  firstClass  1127.36  1.66   \n",
       "4        Aracaju (SE)       Salvador (BH)  firstClass  1684.05  2.16   \n",
       "\n",
       "   distance       agency        date  \n",
       "0    676.53  FlyingDrops  09/26/2019  \n",
       "1    676.53  FlyingDrops  09/30/2019  \n",
       "2    637.56      CloudFy  10/03/2019  \n",
       "3    637.56      CloudFy  10/04/2019  \n",
       "4    830.86      CloudFy  10/10/2019  "
      ]
     },
     "execution_count": 34,
     "metadata": {},
     "output_type": "execute_result"
    }
   ],
   "source": [
    "flights.head()"
   ]
  },
  {
   "cell_type": "code",
   "execution_count": 35,
   "metadata": {},
   "outputs": [],
   "source": [
    "# Try minimal = True if you receive any errors\n",
    "\n",
    "# generate_eda_report(\n",
    "#     flights,\n",
    "#     \"Flights EDA Report\",\n",
    "#     \"../reports/eda/flights_eda_report.html\",\n",
    "#     minimal=True,\n",
    "#     explorative=False,\n",
    "# )"
   ]
  },
  {
   "cell_type": "markdown",
   "metadata": {},
   "source": [
    "### **Statistical Analysis**"
   ]
  },
  {
   "cell_type": "markdown",
   "metadata": {},
   "source": [
    "#### 5 Number Summary"
   ]
  },
  {
   "cell_type": "code",
   "execution_count": 36,
   "metadata": {},
   "outputs": [
    {
     "data": {
      "text/html": [
       "<div>\n",
       "<style scoped>\n",
       "    .dataframe tbody tr th:only-of-type {\n",
       "        vertical-align: middle;\n",
       "    }\n",
       "\n",
       "    .dataframe tbody tr th {\n",
       "        vertical-align: top;\n",
       "    }\n",
       "\n",
       "    .dataframe thead th {\n",
       "        text-align: right;\n",
       "    }\n",
       "</style>\n",
       "<table border=\"1\" class=\"dataframe\">\n",
       "  <thead>\n",
       "    <tr style=\"text-align: right;\">\n",
       "      <th></th>\n",
       "      <th>from</th>\n",
       "      <th>to</th>\n",
       "      <th>flightType</th>\n",
       "      <th>price</th>\n",
       "      <th>time</th>\n",
       "      <th>distance</th>\n",
       "      <th>agency</th>\n",
       "      <th>date</th>\n",
       "    </tr>\n",
       "  </thead>\n",
       "  <tbody>\n",
       "    <tr>\n",
       "      <th>194949</th>\n",
       "      <td>Brasilia (DF)</td>\n",
       "      <td>Florianopolis (SC)</td>\n",
       "      <td>firstClass</td>\n",
       "      <td>1569.65</td>\n",
       "      <td>1.66</td>\n",
       "      <td>637.56</td>\n",
       "      <td>FlyingDrops</td>\n",
       "      <td>02/16/2020</td>\n",
       "    </tr>\n",
       "    <tr>\n",
       "      <th>113719</th>\n",
       "      <td>Sao Paulo (SP)</td>\n",
       "      <td>Campo Grande (MS)</td>\n",
       "      <td>economic</td>\n",
       "      <td>367.22</td>\n",
       "      <td>0.44</td>\n",
       "      <td>168.22</td>\n",
       "      <td>Rainbow</td>\n",
       "      <td>06/13/2021</td>\n",
       "    </tr>\n",
       "    <tr>\n",
       "      <th>15078</th>\n",
       "      <td>Brasilia (DF)</td>\n",
       "      <td>Salvador (BH)</td>\n",
       "      <td>premium</td>\n",
       "      <td>1346.60</td>\n",
       "      <td>1.76</td>\n",
       "      <td>676.56</td>\n",
       "      <td>CloudFy</td>\n",
       "      <td>11/05/2020</td>\n",
       "    </tr>\n",
       "    <tr>\n",
       "      <th>191243</th>\n",
       "      <td>Sao Paulo (SP)</td>\n",
       "      <td>Florianopolis (SC)</td>\n",
       "      <td>firstClass</td>\n",
       "      <td>1718.28</td>\n",
       "      <td>1.46</td>\n",
       "      <td>562.14</td>\n",
       "      <td>Rainbow</td>\n",
       "      <td>09/28/2019</td>\n",
       "    </tr>\n",
       "    <tr>\n",
       "      <th>183246</th>\n",
       "      <td>Florianopolis (SC)</td>\n",
       "      <td>Recife (PE)</td>\n",
       "      <td>firstClass</td>\n",
       "      <td>1300.60</td>\n",
       "      <td>1.76</td>\n",
       "      <td>676.53</td>\n",
       "      <td>CloudFy</td>\n",
       "      <td>08/06/2020</td>\n",
       "    </tr>\n",
       "  </tbody>\n",
       "</table>\n",
       "</div>"
      ],
      "text/plain": [
       "                      from                  to  flightType    price  time  \\\n",
       "194949       Brasilia (DF)  Florianopolis (SC)  firstClass  1569.65  1.66   \n",
       "113719      Sao Paulo (SP)   Campo Grande (MS)    economic   367.22  0.44   \n",
       "15078        Brasilia (DF)       Salvador (BH)     premium  1346.60  1.76   \n",
       "191243      Sao Paulo (SP)  Florianopolis (SC)  firstClass  1718.28  1.46   \n",
       "183246  Florianopolis (SC)         Recife (PE)  firstClass  1300.60  1.76   \n",
       "\n",
       "        distance       agency        date  \n",
       "194949    637.56  FlyingDrops  02/16/2020  \n",
       "113719    168.22      Rainbow  06/13/2021  \n",
       "15078     676.56      CloudFy  11/05/2020  \n",
       "191243    562.14      Rainbow  09/28/2019  \n",
       "183246    676.53      CloudFy  08/06/2020  "
      ]
     },
     "execution_count": 36,
     "metadata": {},
     "output_type": "execute_result"
    }
   ],
   "source": [
    "flights.sample(5)"
   ]
  },
  {
   "cell_type": "code",
   "execution_count": 37,
   "metadata": {},
   "outputs": [
    {
     "data": {
      "text/html": [
       "<div>\n",
       "<style scoped>\n",
       "    .dataframe tbody tr th:only-of-type {\n",
       "        vertical-align: middle;\n",
       "    }\n",
       "\n",
       "    .dataframe tbody tr th {\n",
       "        vertical-align: top;\n",
       "    }\n",
       "\n",
       "    .dataframe thead th {\n",
       "        text-align: right;\n",
       "    }\n",
       "</style>\n",
       "<table border=\"1\" class=\"dataframe\">\n",
       "  <thead>\n",
       "    <tr style=\"text-align: right;\">\n",
       "      <th></th>\n",
       "      <th>price</th>\n",
       "      <th>time</th>\n",
       "      <th>distance</th>\n",
       "    </tr>\n",
       "  </thead>\n",
       "  <tbody>\n",
       "    <tr>\n",
       "      <th>count</th>\n",
       "      <td>149484.000000</td>\n",
       "      <td>149484.000000</td>\n",
       "      <td>149484.000000</td>\n",
       "    </tr>\n",
       "    <tr>\n",
       "      <th>mean</th>\n",
       "      <td>949.422468</td>\n",
       "      <td>1.363235</td>\n",
       "      <td>524.676537</td>\n",
       "    </tr>\n",
       "    <tr>\n",
       "      <th>std</th>\n",
       "      <td>358.448214</td>\n",
       "      <td>0.547956</td>\n",
       "      <td>210.969025</td>\n",
       "    </tr>\n",
       "    <tr>\n",
       "      <th>min</th>\n",
       "      <td>301.510000</td>\n",
       "      <td>0.440000</td>\n",
       "      <td>168.220000</td>\n",
       "    </tr>\n",
       "    <tr>\n",
       "      <th>25%</th>\n",
       "      <td>669.830000</td>\n",
       "      <td>0.850000</td>\n",
       "      <td>327.550000</td>\n",
       "    </tr>\n",
       "    <tr>\n",
       "      <th>50%</th>\n",
       "      <td>898.040000</td>\n",
       "      <td>1.440000</td>\n",
       "      <td>555.740000</td>\n",
       "    </tr>\n",
       "    <tr>\n",
       "      <th>75%</th>\n",
       "      <td>1214.820000</td>\n",
       "      <td>1.760000</td>\n",
       "      <td>676.530000</td>\n",
       "    </tr>\n",
       "    <tr>\n",
       "      <th>max</th>\n",
       "      <td>1754.170000</td>\n",
       "      <td>2.440000</td>\n",
       "      <td>937.770000</td>\n",
       "    </tr>\n",
       "  </tbody>\n",
       "</table>\n",
       "</div>"
      ],
      "text/plain": [
       "               price           time       distance\n",
       "count  149484.000000  149484.000000  149484.000000\n",
       "mean      949.422468       1.363235     524.676537\n",
       "std       358.448214       0.547956     210.969025\n",
       "min       301.510000       0.440000     168.220000\n",
       "25%       669.830000       0.850000     327.550000\n",
       "50%       898.040000       1.440000     555.740000\n",
       "75%      1214.820000       1.760000     676.530000\n",
       "max      1754.170000       2.440000     937.770000"
      ]
     },
     "execution_count": 37,
     "metadata": {},
     "output_type": "execute_result"
    }
   ],
   "source": [
    "flights.describe(include=\"number\")"
   ]
  },
  {
   "cell_type": "code",
   "execution_count": 38,
   "metadata": {},
   "outputs": [
    {
     "data": {
      "text/html": [
       "<div>\n",
       "<style scoped>\n",
       "    .dataframe tbody tr th:only-of-type {\n",
       "        vertical-align: middle;\n",
       "    }\n",
       "\n",
       "    .dataframe tbody tr th {\n",
       "        vertical-align: top;\n",
       "    }\n",
       "\n",
       "    .dataframe thead th {\n",
       "        text-align: right;\n",
       "    }\n",
       "</style>\n",
       "<table border=\"1\" class=\"dataframe\">\n",
       "  <thead>\n",
       "    <tr style=\"text-align: right;\">\n",
       "      <th></th>\n",
       "      <th>from</th>\n",
       "      <th>to</th>\n",
       "      <th>flightType</th>\n",
       "      <th>agency</th>\n",
       "      <th>date</th>\n",
       "    </tr>\n",
       "  </thead>\n",
       "  <tbody>\n",
       "    <tr>\n",
       "      <th>count</th>\n",
       "      <td>149484</td>\n",
       "      <td>149484</td>\n",
       "      <td>149484</td>\n",
       "      <td>149484</td>\n",
       "      <td>149484</td>\n",
       "    </tr>\n",
       "    <tr>\n",
       "      <th>unique</th>\n",
       "      <td>9</td>\n",
       "      <td>9</td>\n",
       "      <td>3</td>\n",
       "      <td>3</td>\n",
       "      <td>999</td>\n",
       "    </tr>\n",
       "    <tr>\n",
       "      <th>top</th>\n",
       "      <td>Florianopolis (SC)</td>\n",
       "      <td>Florianopolis (SC)</td>\n",
       "      <td>firstClass</td>\n",
       "      <td>Rainbow</td>\n",
       "      <td>12/19/2019</td>\n",
       "    </tr>\n",
       "    <tr>\n",
       "      <th>freq</th>\n",
       "      <td>18800</td>\n",
       "      <td>31438</td>\n",
       "      <td>64169</td>\n",
       "      <td>64167</td>\n",
       "      <td>358</td>\n",
       "    </tr>\n",
       "  </tbody>\n",
       "</table>\n",
       "</div>"
      ],
      "text/plain": [
       "                      from                  to  flightType   agency  \\\n",
       "count               149484              149484      149484   149484   \n",
       "unique                   9                   9           3        3   \n",
       "top     Florianopolis (SC)  Florianopolis (SC)  firstClass  Rainbow   \n",
       "freq                 18800               31438       64169    64167   \n",
       "\n",
       "              date  \n",
       "count       149484  \n",
       "unique         999  \n",
       "top     12/19/2019  \n",
       "freq           358  "
      ]
     },
     "execution_count": 38,
     "metadata": {},
     "output_type": "execute_result"
    }
   ],
   "source": [
    "flights.describe(include=[\"object\", \"category\"])"
   ]
  },
  {
   "cell_type": "markdown",
   "metadata": {},
   "source": [
    "##### Main Insights\n",
    "\n",
    "-   **Price:** The average flight price is approximately 949 units, with a significant range from about 301 to 1754 units. The median price (898 units) is slightly lower than the mean, suggesting a slight right skew in the price distribution, with some flights being considerably more expensive.\n",
    "-   **Time:** Flight durations average around 1.36 hours, typically varying by about half an hour (standard deviation of 0.55 hours). The flight times range from approximately 26 minutes (0.44 hours) to about 2.44 hours.\n",
    "-   **Distance:** The average flight distance is roughly 525 units, with substantial variability (standard deviation of 211 units). Distances cover a wide span from approximately 168 to 938 units. The median distance (556 units) being slightly higher than the mean suggests a slight left skew, indicating a number of shorter flights."
   ]
  },
  {
   "cell_type": "markdown",
   "metadata": {},
   "source": [
    "#### **Date Analysis**\n"
   ]
  },
  {
   "cell_type": "code",
   "execution_count": 41,
   "metadata": {},
   "outputs": [
    {
     "data": {
      "text/html": [
       "<div>\n",
       "<style scoped>\n",
       "    .dataframe tbody tr th:only-of-type {\n",
       "        vertical-align: middle;\n",
       "    }\n",
       "\n",
       "    .dataframe tbody tr th {\n",
       "        vertical-align: top;\n",
       "    }\n",
       "\n",
       "    .dataframe thead th {\n",
       "        text-align: right;\n",
       "    }\n",
       "</style>\n",
       "<table border=\"1\" class=\"dataframe\">\n",
       "  <thead>\n",
       "    <tr style=\"text-align: right;\">\n",
       "      <th></th>\n",
       "      <th>from</th>\n",
       "      <th>to</th>\n",
       "      <th>flightType</th>\n",
       "      <th>price</th>\n",
       "      <th>time</th>\n",
       "      <th>distance</th>\n",
       "      <th>agency</th>\n",
       "      <th>date</th>\n",
       "      <th>month</th>\n",
       "      <th>year</th>\n",
       "      <th>day</th>\n",
       "    </tr>\n",
       "  </thead>\n",
       "  <tbody>\n",
       "    <tr>\n",
       "      <th>0</th>\n",
       "      <td>Recife (PE)</td>\n",
       "      <td>Florianopolis (SC)</td>\n",
       "      <td>firstClass</td>\n",
       "      <td>1434.38</td>\n",
       "      <td>1.76</td>\n",
       "      <td>676.53</td>\n",
       "      <td>FlyingDrops</td>\n",
       "      <td>2019-09-26</td>\n",
       "      <td>9</td>\n",
       "      <td>2019</td>\n",
       "      <td>26</td>\n",
       "    </tr>\n",
       "    <tr>\n",
       "      <th>1</th>\n",
       "      <td>Florianopolis (SC)</td>\n",
       "      <td>Recife (PE)</td>\n",
       "      <td>firstClass</td>\n",
       "      <td>1292.29</td>\n",
       "      <td>1.76</td>\n",
       "      <td>676.53</td>\n",
       "      <td>FlyingDrops</td>\n",
       "      <td>2019-09-30</td>\n",
       "      <td>9</td>\n",
       "      <td>2019</td>\n",
       "      <td>30</td>\n",
       "    </tr>\n",
       "    <tr>\n",
       "      <th>2</th>\n",
       "      <td>Brasilia (DF)</td>\n",
       "      <td>Florianopolis (SC)</td>\n",
       "      <td>firstClass</td>\n",
       "      <td>1487.52</td>\n",
       "      <td>1.66</td>\n",
       "      <td>637.56</td>\n",
       "      <td>CloudFy</td>\n",
       "      <td>2019-10-03</td>\n",
       "      <td>10</td>\n",
       "      <td>2019</td>\n",
       "      <td>3</td>\n",
       "    </tr>\n",
       "    <tr>\n",
       "      <th>3</th>\n",
       "      <td>Florianopolis (SC)</td>\n",
       "      <td>Brasilia (DF)</td>\n",
       "      <td>firstClass</td>\n",
       "      <td>1127.36</td>\n",
       "      <td>1.66</td>\n",
       "      <td>637.56</td>\n",
       "      <td>CloudFy</td>\n",
       "      <td>2019-10-04</td>\n",
       "      <td>10</td>\n",
       "      <td>2019</td>\n",
       "      <td>4</td>\n",
       "    </tr>\n",
       "    <tr>\n",
       "      <th>4</th>\n",
       "      <td>Aracaju (SE)</td>\n",
       "      <td>Salvador (BH)</td>\n",
       "      <td>firstClass</td>\n",
       "      <td>1684.05</td>\n",
       "      <td>2.16</td>\n",
       "      <td>830.86</td>\n",
       "      <td>CloudFy</td>\n",
       "      <td>2019-10-10</td>\n",
       "      <td>10</td>\n",
       "      <td>2019</td>\n",
       "      <td>10</td>\n",
       "    </tr>\n",
       "  </tbody>\n",
       "</table>\n",
       "</div>"
      ],
      "text/plain": [
       "                 from                  to  flightType    price  time  \\\n",
       "0         Recife (PE)  Florianopolis (SC)  firstClass  1434.38  1.76   \n",
       "1  Florianopolis (SC)         Recife (PE)  firstClass  1292.29  1.76   \n",
       "2       Brasilia (DF)  Florianopolis (SC)  firstClass  1487.52  1.66   \n",
       "3  Florianopolis (SC)       Brasilia (DF)  firstClass  1127.36  1.66   \n",
       "4        Aracaju (SE)       Salvador (BH)  firstClass  1684.05  2.16   \n",
       "\n",
       "   distance       agency       date  month  year  day  \n",
       "0    676.53  FlyingDrops 2019-09-26      9  2019   26  \n",
       "1    676.53  FlyingDrops 2019-09-30      9  2019   30  \n",
       "2    637.56      CloudFy 2019-10-03     10  2019    3  \n",
       "3    637.56      CloudFy 2019-10-04     10  2019    4  \n",
       "4    830.86      CloudFy 2019-10-10     10  2019   10  "
      ]
     },
     "execution_count": 41,
     "metadata": {},
     "output_type": "execute_result"
    }
   ],
   "source": [
    "flights[\"date\"] = pd.to_datetime(flights[\"date\"], errors=\"coerce\")\n",
    "flights[\"month\"] = flights[\"date\"].dt.month\n",
    "flights[\"year\"] = flights[\"date\"].dt.year\n",
    "flights[\"day\"] = flights[\"date\"].dt.day\n",
    "flights.head()"
   ]
  },
  {
   "cell_type": "code",
   "execution_count": null,
   "metadata": {},
   "outputs": [
    {
     "data": {
      "text/plain": [
       "year  month\n",
       "2019  12       5026\n",
       "      10       4995\n",
       "      11       4984\n",
       "      9        1148\n",
       "2020  1        5074\n",
       "      5        4822\n",
       "      3        4799\n",
       "      4        4724\n",
       "      7        4700\n",
       "      8        4677\n",
       "      2        4662\n",
       "      10       4645\n",
       "      6        4452\n",
       "      11       4261\n",
       "      12       4229\n",
       "      9        4050\n",
       "2021  1        4285\n",
       "      4        3994\n",
       "      5        3907\n",
       "      7        3866\n",
       "      3        3856\n",
       "      2        3793\n",
       "      8        3504\n",
       "      9        3403\n",
       "      6        3402\n",
       "      10       3385\n",
       "      12       3291\n",
       "      11       3106\n",
       "2022  1        3142\n",
       "      3        2871\n",
       "      4        2798\n",
       "      2        2719\n",
       "      5        2644\n",
       "      6        2527\n",
       "      7        2446\n",
       "      8        2211\n",
       "      9        2191\n",
       "      10       1993\n",
       "      12       1756\n",
       "      11       1614\n",
       "2023  1        1402\n",
       "      2        1161\n",
       "      3        1125\n",
       "      4         814\n",
       "      5         543\n",
       "      6         362\n",
       "      7         125\n",
       "Name: count, dtype: int64"
      ]
     },
     "execution_count": 44,
     "metadata": {},
     "output_type": "execute_result"
    }
   ],
   "source": [
    "flights[\"month\"].groupby(flights[\"year\"]).value_counts()"
   ]
  },
  {
   "cell_type": "code",
   "execution_count": 20,
   "metadata": {},
   "outputs": [
    {
     "name": "stdout",
     "output_type": "stream",
     "text": [
      "--- Comprehensive Date Statistics for: Date Column ---\n",
      "Minimum Date: 2019-09-26\n",
      "Maximum Date: 2023-07-24\n",
      "Total time span: 1397 days 00:00:00\n",
      "Number of unique days with data: 999\n",
      "\n",
      "--- Yearly Frequencies ---\n",
      "date\n",
      "2019    16153\n",
      "2020    55095\n",
      "2021    43792\n",
      "2022    28912\n",
      "2023     5532\n",
      "Name: count, dtype: int64\n",
      "Number of unique years with data: 5\n",
      "\n",
      "--- Overall Monthly Frequencies (Aggregated Across All Years) ---\n",
      "date\n",
      "Jan    13903\n",
      "Feb    12335\n",
      "Mar    12651\n",
      "Apr    12330\n",
      "May    11916\n",
      "Jun    10743\n",
      "Jul    11137\n",
      "Aug    10392\n",
      "Sep    10792\n",
      "Oct    15018\n",
      "Nov    13965\n",
      "Dec    14302\n",
      "Name: count, dtype: int64\n",
      "Number of unique months (e.g., Jan, Feb) with data across all years: 12\n",
      "\n",
      "--- Monthly Frequencies for Each Year ---\n",
      "month_name  January  February  March  April   May  June  July  August  \\\n",
      "year                                                                    \n",
      "2019              0         0      0      0     0     0     0       0   \n",
      "2020           5074      4662   4799   4724  4822  4452  4700    4677   \n",
      "2021           4285      3793   3856   3994  3907  3402  3866    3504   \n",
      "2022           3142      2719   2871   2798  2644  2527  2446    2211   \n",
      "2023           1402      1161   1125    814   543   362   125       0   \n",
      "\n",
      "month_name  September  October  November  December  \n",
      "year                                                \n",
      "2019             1148     4995      4984      5026  \n",
      "2020             4050     4645      4261      4229  \n",
      "2021             3403     3385      3106      3291  \n",
      "2022             2191     1993      1614      1756  \n",
      "2023                0        0         0         0  \n",
      "\n",
      "--- Data Continuity ---\n",
      "Number of unique Year-Month combinations with data: 47\n",
      "Expected number of months between min and max date (inclusive): 47\n",
      "Data appears to be present for all months within the overall date range.\n",
      "\n",
      "--- End of Comprehensive Date Statistics ---\n"
     ]
    }
   ],
   "source": [
    "get_date_stats(flights[\"date\"])"
   ]
  },
  {
   "cell_type": "code",
   "execution_count": 42,
   "metadata": {},
   "outputs": [
    {
     "name": "stdout",
     "output_type": "stream",
     "text": [
      "year\n",
      "2019    16153\n",
      "2020    55095\n",
      "2021    43792\n",
      "2022    28912\n",
      "2023     5532\n",
      "Name: count, dtype: int64\n",
      "month\n",
      "1     13903\n",
      "2     12335\n",
      "3     12651\n",
      "4     12330\n",
      "5     11916\n",
      "6     10743\n",
      "7     11137\n",
      "8     10392\n",
      "9     10792\n",
      "10    15018\n",
      "11    13965\n",
      "12    14302\n",
      "Name: count, dtype: int64\n"
     ]
    }
   ],
   "source": [
    "print(f\"{flights['year'].value_counts().sort_index()}\")\n",
    "print(f\"{flights['month'].value_counts().sort_index()}\")"
   ]
  },
  {
   "cell_type": "code",
   "execution_count": null,
   "metadata": {},
   "outputs": [
    {
     "data": {
      "image/png": "[encoded data removed]",
      "text/plain": [
       "<Figure size 1400x700 with 1 Axes>"
      ]
     },
     "metadata": {},
     "output_type": "display_data"
    },
    {
     "name": "stdout",
     "output_type": "stream",
     "text": [
      "--- End of Y Plot ---\n",
      "\n"
     ]
    },
    {
     "data": {
      "image/png": "[encoded data removed]",
      "text/plain": [
       "<Figure size 1400x700 with 1 Axes>"
      ]
     },
     "metadata": {},
     "output_type": "display_data"
    },
    {
     "name": "stdout",
     "output_type": "stream",
     "text": [
      "--- End of M Plot ---\n",
      "\n"
     ]
    }
   ],
   "source": [
    "plot_date_frequency_bar(flights[\"date\"], freq=\"Y\")\n",
    "plot_date_frequency_bar(flights[\"date\"], freq=\"M\")\n"
   ]
  },
  {
   "cell_type": "markdown",
   "metadata": {},
   "source": [
    "### **Column Information**"
   ]
  },
  {
   "cell_type": "code",
   "execution_count": 78,
   "metadata": {},
   "outputs": [
    {
     "name": "stdout",
     "output_type": "stream",
     "text": [
      "<class 'pandas.core.frame.DataFrame'>\n",
      "Index: 149484 entries, 0 to 271851\n",
      "Data columns (total 8 columns):\n",
      " #   Column      Non-Null Count   Dtype  \n",
      "---  ------      --------------   -----  \n",
      " 0   from        149484 non-null  object \n",
      " 1   to          149484 non-null  object \n",
      " 2   flightType  149484 non-null  object \n",
      " 3   price       149484 non-null  float64\n",
      " 4   time        149484 non-null  float64\n",
      " 5   distance    149484 non-null  float64\n",
      " 6   agency      149484 non-null  object \n",
      " 7   date        149484 non-null  object \n",
      "dtypes: float64(3), object(5)\n",
      "memory usage: 10.3+ MB\n"
     ]
    }
   ],
   "source": [
    "flights.info()"
   ]
  },
  {
   "cell_type": "code",
   "execution_count": null,
   "metadata": {},
   "outputs": [
    {
     "data": {
      "text/plain": [
       "from            9\n",
       "to              9\n",
       "flightType      3\n",
       "price         490\n",
       "time           33\n",
       "distance       35\n",
       "agency          3\n",
       "date          999\n",
       "dtype: int64"
      ]
     },
     "execution_count": 77,
     "metadata": {},
     "output_type": "execute_result"
    }
   ],
   "source": [
    "flights.nunique()"
   ]
  },
  {
   "cell_type": "markdown",
   "metadata": {},
   "source": []
  }
 ],
 "metadata": {
  "kernelspec": {
   "display_name": "travels_mlops",
   "language": "python",
   "name": "python3"
  },
  "language_info": {
   "codemirror_mode": {
    "name": "ipython",
    "version": 3
   },
   "file_extension": ".py",
   "mimetype": "text/x-python",
   "name": "python",
   "nbconvert_exporter": "python",
   "pygments_lexer": "ipython3",
   "version": "3.12.9"
  }
 },
 "nbformat": 4,
 "nbformat_minor": 2
}
