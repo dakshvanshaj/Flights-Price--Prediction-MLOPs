{
 "cells": [
  {
   "cell_type": "markdown",
   "metadata": {},
   "source": [
    "# 🧭 **Exploratory Data Analysis (EDA): Flights Dataset**\n",
    "\n",
    "This notebook marks the **Exploratory Data Analysis (EDA)** phase within our **Travel MLOps Project**. Our focus is the **Flights dataset**, which we will dissect to uncover critical insights, identify data quality issues, and lay a robust groundwork for developing our **Flight Price Prediction Model**.\n",
    "\n",
    "🎯 **Primary Goal of this EDA**:\n",
    "To gather the necessary understanding and insights to construct a high-performing **Regression Model** capable of accurately predicting flight prices. This model will leverage key features including distance, time, flight class, agency, and travel route.\n",
    "\n",
    "---\n",
    "\n",
    "## 📦 **Dataset At a Glance: Flights**\n",
    "\n",
    "The **Flights dataset** provides structured records of user flight bookings. It encompasses details on travel routes, flight characteristics, pricing (our target variable), and booking agencies.\n",
    "\n",
    "| Column       | Description                                     |\n",
    "|--------------|-------------------------------------------------|\n",
    "| `travelCode` | Unique identifier for each travel itinerary     |\n",
    "| `userCode`   | Identifier for the user (links to Users table)  |\n",
    "| `from`       | Origin city/airport of the flight               |\n",
    "| `to`         | Destination city/airport of the flight          |\n",
    "| `flightType` | Service class of the flight (e.g., Economy, First Class) |\n",
    "| `price`      | **Target Variable**: Cost of the flight (USD)   |\n",
    "| `time`       | Flight duration (in hours)                      |\n",
    "| `distance`   | Flight distance (e.g., in kilometers or miles)  |\n",
    "| `agency`     | Airline or travel agency facilitating the booking|\n",
    "| `date`       | Date of the flight departure                    |\n",
    "\n",
    "---\n",
    "\n",
    "## 🎯 **Key Objectives of this Analysis**\n",
    "\n",
    "This EDA serves several critical functions in our model development lifecycle:\n",
    "\n",
    "-   **Deep Dive into Data Structure:** We will thoroughly examine the dataset's schema, data types, and the distributions of categorical and numerical features.\n",
    "-   **Pinpoint Data Quality Concerns:** Our investigation will focus on identifying and quantifying issues such as missing values, outliers, anomalies, and duplicate records.\n",
    "-   **Evaluate Feature Relationships and Importance:** We aim to understand how each feature correlates with the target variable (`price`) and with other features, highlighting potential predictors.\n",
    "-   **Inform Preprocessing and Feature Engineering:** The insights gained will directly guide the strategies for data cleaning, transformation, feature selection, and the creation of new, impactful features for the **Flight Price Prediction Model**.\n",
    "\n",
    "---\n",
    "\n",
    "## 🔍 **Analytical Approach**\n",
    "\n",
    "Our exploration of the Flights dataset will involve a comprehensive analysis using descriptive statistics, various data visualizations (histograms, scatter plots, box plots), and correlation studies.\n",
    "\n",
    "The findings from this process are crucial, as they will directly inform our **feature selection criteria, data transformation techniques, and the overall design of our model training pipeline**, all aimed at achieving accurate flight price predictions.\n",
    "\n",
    "> Given the manageable number of features in this dataset, we will employ a thorough visualization strategy. This includes generating pair plots for numerical features, frequency plots for categorical features, and comparative plots (like box plots) across numerical and categorical feature combinations. This ensures a comprehensive understanding of inter-feature relationships and patterns.\n",
    "\n",
    "Let's dive into the data!"
   ]
  },
  {
   "cell_type": "markdown",
   "metadata": {},
   "source": [
    "### **Import Necessary Libraries and Packages**"
   ]
  },
  {
   "cell_type": "code",
   "execution_count": 1,
   "metadata": {},
   "outputs": [],
   "source": [
    "%load_ext autoreload\n",
    "%autoreload 2\n"
   ]
  },
  {
   "cell_type": "code",
   "execution_count": 2,
   "metadata": {},
   "outputs": [
    {
     "data": {
      "text/html": [
       "\n",
       "            <div>\n",
       "                <ins><a href=\"https://ydata.ai/register\">Upgrade to ydata-sdk</a></ins>\n",
       "                <p>\n",
       "                    Improve your data and profiling with ydata-sdk, featuring data quality scoring, redundancy detection, outlier identification, text validation, and synthetic data generation.\n",
       "                </p>\n",
       "            </div>\n",
       "            "
      ],
      "text/plain": [
       "<IPython.core.display.HTML object>"
      ]
     },
     "metadata": {},
     "output_type": "display_data"
    }
   ],
   "source": [
    "import pandas as pd\n",
    "import numpy as np\n",
    "from ydata_profiling import ProfileReport\n",
    "import matplotlib.pyplot as plt\n",
    "\n",
    "%matplotlib inline\n",
    "import seaborn as sns\n",
    "import os\n",
    "\n",
    "from sklearn.model_selection import train_test_split\n"
   ]
  },
  {
   "cell_type": "code",
   "execution_count": 3,
   "metadata": {},
   "outputs": [],
   "source": [
    "# Move to the parent directory\n",
    "import sys\n",
    "\n",
    "sys.path.append(\"../\")\n",
    "\n",
    "import utils\n",
    "import importlib\n",
    "\n",
    "importlib.reload(utils)  # Force reload\n",
    "\n",
    "from utils.data_utils import (\n",
    "    check_duplicates,\n",
    "    generate_eda_report,\n",
    "    get_date_stats,\n",
    "    get_date_stats,\n",
    "    count_rows_between_dates,\n",
    "    check_missing,\n",
    "    optimize_dtypes,\n",
    ")\n",
    "\n",
    "from utils.plots_utils import (\n",
    "    plot_flights_per_year,\n",
    "    plot_flights_per_month,\n",
    "    flights_distribution,\n",
    ")\n",
    "\n",
    "from utils.data_splitting import chronological_split"
   ]
  },
  {
   "cell_type": "code",
   "execution_count": 4,
   "metadata": {},
   "outputs": [
    {
     "name": "stdout",
     "output_type": "stream",
     "text": [
      "['ProfileReport', 'Settings', '__builtins__', '__cached__', '__doc__', '__file__', '__loader__', '__name__', '__package__', '__spec__', 'check_duplicates', 'check_missing', 'count_rows_between_dates', 'generate_eda_report', 'get_date_stats', 'mdates', 'np', 'optimize_dtypes', 'pd', 'plt', 'sns', 'train_test_split', 'warnings']\n"
     ]
    }
   ],
   "source": [
    "print(dir(utils.data_utils))\n"
   ]
  },
  {
   "cell_type": "markdown",
   "metadata": {},
   "source": [
    "### **Load The Dataset**"
   ]
  },
  {
   "cell_type": "code",
   "execution_count": 5,
   "metadata": {},
   "outputs": [],
   "source": [
    "flights_path = \"../data/flights.csv\"\n",
    "# Load the dataset\n",
    "flights = pd.read_csv(flights_path)"
   ]
  },
  {
   "cell_type": "code",
   "execution_count": 6,
   "metadata": {},
   "outputs": [
    {
     "data": {
      "text/html": [
       "<div>\n",
       "<style scoped>\n",
       "    .dataframe tbody tr th:only-of-type {\n",
       "        vertical-align: middle;\n",
       "    }\n",
       "\n",
       "    .dataframe tbody tr th {\n",
       "        vertical-align: top;\n",
       "    }\n",
       "\n",
       "    .dataframe thead th {\n",
       "        text-align: right;\n",
       "    }\n",
       "</style>\n",
       "<table border=\"1\" class=\"dataframe\">\n",
       "  <thead>\n",
       "    <tr style=\"text-align: right;\">\n",
       "      <th></th>\n",
       "      <th>travelCode</th>\n",
       "      <th>userCode</th>\n",
       "      <th>from</th>\n",
       "      <th>to</th>\n",
       "      <th>flightType</th>\n",
       "      <th>price</th>\n",
       "      <th>time</th>\n",
       "      <th>distance</th>\n",
       "      <th>agency</th>\n",
       "      <th>date</th>\n",
       "    </tr>\n",
       "  </thead>\n",
       "  <tbody>\n",
       "    <tr>\n",
       "      <th>0</th>\n",
       "      <td>0</td>\n",
       "      <td>0</td>\n",
       "      <td>Recife (PE)</td>\n",
       "      <td>Florianopolis (SC)</td>\n",
       "      <td>firstClass</td>\n",
       "      <td>1434.38</td>\n",
       "      <td>1.76</td>\n",
       "      <td>676.53</td>\n",
       "      <td>FlyingDrops</td>\n",
       "      <td>09/26/2019</td>\n",
       "    </tr>\n",
       "    <tr>\n",
       "      <th>1</th>\n",
       "      <td>0</td>\n",
       "      <td>0</td>\n",
       "      <td>Florianopolis (SC)</td>\n",
       "      <td>Recife (PE)</td>\n",
       "      <td>firstClass</td>\n",
       "      <td>1292.29</td>\n",
       "      <td>1.76</td>\n",
       "      <td>676.53</td>\n",
       "      <td>FlyingDrops</td>\n",
       "      <td>09/30/2019</td>\n",
       "    </tr>\n",
       "    <tr>\n",
       "      <th>2</th>\n",
       "      <td>1</td>\n",
       "      <td>0</td>\n",
       "      <td>Brasilia (DF)</td>\n",
       "      <td>Florianopolis (SC)</td>\n",
       "      <td>firstClass</td>\n",
       "      <td>1487.52</td>\n",
       "      <td>1.66</td>\n",
       "      <td>637.56</td>\n",
       "      <td>CloudFy</td>\n",
       "      <td>10/03/2019</td>\n",
       "    </tr>\n",
       "    <tr>\n",
       "      <th>3</th>\n",
       "      <td>1</td>\n",
       "      <td>0</td>\n",
       "      <td>Florianopolis (SC)</td>\n",
       "      <td>Brasilia (DF)</td>\n",
       "      <td>firstClass</td>\n",
       "      <td>1127.36</td>\n",
       "      <td>1.66</td>\n",
       "      <td>637.56</td>\n",
       "      <td>CloudFy</td>\n",
       "      <td>10/04/2019</td>\n",
       "    </tr>\n",
       "    <tr>\n",
       "      <th>4</th>\n",
       "      <td>2</td>\n",
       "      <td>0</td>\n",
       "      <td>Aracaju (SE)</td>\n",
       "      <td>Salvador (BH)</td>\n",
       "      <td>firstClass</td>\n",
       "      <td>1684.05</td>\n",
       "      <td>2.16</td>\n",
       "      <td>830.86</td>\n",
       "      <td>CloudFy</td>\n",
       "      <td>10/10/2019</td>\n",
       "    </tr>\n",
       "  </tbody>\n",
       "</table>\n",
       "</div>"
      ],
      "text/plain": [
       "   travelCode  userCode                from                  to  flightType  \\\n",
       "0           0         0         Recife (PE)  Florianopolis (SC)  firstClass   \n",
       "1           0         0  Florianopolis (SC)         Recife (PE)  firstClass   \n",
       "2           1         0       Brasilia (DF)  Florianopolis (SC)  firstClass   \n",
       "3           1         0  Florianopolis (SC)       Brasilia (DF)  firstClass   \n",
       "4           2         0        Aracaju (SE)       Salvador (BH)  firstClass   \n",
       "\n",
       "     price  time  distance       agency        date  \n",
       "0  1434.38  1.76    676.53  FlyingDrops  09/26/2019  \n",
       "1  1292.29  1.76    676.53  FlyingDrops  09/30/2019  \n",
       "2  1487.52  1.66    637.56      CloudFy  10/03/2019  \n",
       "3  1127.36  1.66    637.56      CloudFy  10/04/2019  \n",
       "4  1684.05  2.16    830.86      CloudFy  10/10/2019  "
      ]
     },
     "execution_count": 6,
     "metadata": {},
     "output_type": "execute_result"
    }
   ],
   "source": [
    "flights.head()"
   ]
  },
  {
   "cell_type": "markdown",
   "metadata": {},
   "source": [
    "### **Checking Duplicates**"
   ]
  },
  {
   "cell_type": "code",
   "execution_count": 7,
   "metadata": {},
   "outputs": [
    {
     "name": "stdout",
     "output_type": "stream",
     "text": [
      "Percentage of rows involved in duplication: 0.00%\n"
     ]
    }
   ],
   "source": [
    "check_duplicates(flights)"
   ]
  },
  {
   "cell_type": "markdown",
   "metadata": {},
   "source": [
    "#### **Duplicate Values Insights**\n",
    "\n",
    "- No Duplicate values were found."
   ]
  },
  {
   "cell_type": "markdown",
   "metadata": {},
   "source": [
    "### **Relevance of `travelCode` and `userCode` in EDA**\n",
    "\n",
    "The `travelCode` and `userCode` columns primarily serve as identifiers.\n",
    "\n",
    "*   **`travelCode`**: This links related flight segments, such as an outbound and its corresponding return trip. For example:\n",
    "\n",
    "    | travelCode | userCode | from             | to                 | date       |\n",
    "    |------------|----------|------------------|--------------------|------------|\n",
    "    | 0          | 0        | Recife (PE)      | Florianopolis (SC) | 09/26/2019 |\n",
    "    | 0          | 0        | Florianopolis (SC)| Recife (PE)        | 09/30/2019 |\n",
    "\n",
    "*   **`userCode`**: This links flights to specific users, enabling connections to the `users.csv` data.\n",
    "\n",
    "*   It's possible for different `travelCode` or `userCode` entries to correspond to flights with identical details (route, price, time, distance, agency). This can happen if multiple users book the same flight. Including these identifiers directly in analyses focused on flight attributes without aggregation could potentially cause **Bias** in a model by over-representing frequently booked flight configurations."
   ]
  },
  {
   "cell_type": "code",
   "execution_count": 8,
   "metadata": {},
   "outputs": [],
   "source": [
    "# Drop keys\n",
    "flights.drop(columns=[\"travelCode\", \"userCode\"], inplace=True)"
   ]
  },
  {
   "cell_type": "code",
   "execution_count": 9,
   "metadata": {},
   "outputs": [
    {
     "data": {
      "text/html": [
       "<div>\n",
       "<style scoped>\n",
       "    .dataframe tbody tr th:only-of-type {\n",
       "        vertical-align: middle;\n",
       "    }\n",
       "\n",
       "    .dataframe tbody tr th {\n",
       "        vertical-align: top;\n",
       "    }\n",
       "\n",
       "    .dataframe thead th {\n",
       "        text-align: right;\n",
       "    }\n",
       "</style>\n",
       "<table border=\"1\" class=\"dataframe\">\n",
       "  <thead>\n",
       "    <tr style=\"text-align: right;\">\n",
       "      <th></th>\n",
       "      <th>from</th>\n",
       "      <th>to</th>\n",
       "      <th>flightType</th>\n",
       "      <th>price</th>\n",
       "      <th>time</th>\n",
       "      <th>distance</th>\n",
       "      <th>agency</th>\n",
       "      <th>date</th>\n",
       "    </tr>\n",
       "  </thead>\n",
       "  <tbody>\n",
       "    <tr>\n",
       "      <th>0</th>\n",
       "      <td>Recife (PE)</td>\n",
       "      <td>Florianopolis (SC)</td>\n",
       "      <td>firstClass</td>\n",
       "      <td>1434.38</td>\n",
       "      <td>1.76</td>\n",
       "      <td>676.53</td>\n",
       "      <td>FlyingDrops</td>\n",
       "      <td>09/26/2019</td>\n",
       "    </tr>\n",
       "    <tr>\n",
       "      <th>1</th>\n",
       "      <td>Florianopolis (SC)</td>\n",
       "      <td>Recife (PE)</td>\n",
       "      <td>firstClass</td>\n",
       "      <td>1292.29</td>\n",
       "      <td>1.76</td>\n",
       "      <td>676.53</td>\n",
       "      <td>FlyingDrops</td>\n",
       "      <td>09/30/2019</td>\n",
       "    </tr>\n",
       "    <tr>\n",
       "      <th>2</th>\n",
       "      <td>Brasilia (DF)</td>\n",
       "      <td>Florianopolis (SC)</td>\n",
       "      <td>firstClass</td>\n",
       "      <td>1487.52</td>\n",
       "      <td>1.66</td>\n",
       "      <td>637.56</td>\n",
       "      <td>CloudFy</td>\n",
       "      <td>10/03/2019</td>\n",
       "    </tr>\n",
       "    <tr>\n",
       "      <th>3</th>\n",
       "      <td>Florianopolis (SC)</td>\n",
       "      <td>Brasilia (DF)</td>\n",
       "      <td>firstClass</td>\n",
       "      <td>1127.36</td>\n",
       "      <td>1.66</td>\n",
       "      <td>637.56</td>\n",
       "      <td>CloudFy</td>\n",
       "      <td>10/04/2019</td>\n",
       "    </tr>\n",
       "    <tr>\n",
       "      <th>4</th>\n",
       "      <td>Aracaju (SE)</td>\n",
       "      <td>Salvador (BH)</td>\n",
       "      <td>firstClass</td>\n",
       "      <td>1684.05</td>\n",
       "      <td>2.16</td>\n",
       "      <td>830.86</td>\n",
       "      <td>CloudFy</td>\n",
       "      <td>10/10/2019</td>\n",
       "    </tr>\n",
       "  </tbody>\n",
       "</table>\n",
       "</div>"
      ],
      "text/plain": [
       "                 from                  to  flightType    price  time  \\\n",
       "0         Recife (PE)  Florianopolis (SC)  firstClass  1434.38  1.76   \n",
       "1  Florianopolis (SC)         Recife (PE)  firstClass  1292.29  1.76   \n",
       "2       Brasilia (DF)  Florianopolis (SC)  firstClass  1487.52  1.66   \n",
       "3  Florianopolis (SC)       Brasilia (DF)  firstClass  1127.36  1.66   \n",
       "4        Aracaju (SE)       Salvador (BH)  firstClass  1684.05  2.16   \n",
       "\n",
       "   distance       agency        date  \n",
       "0    676.53  FlyingDrops  09/26/2019  \n",
       "1    676.53  FlyingDrops  09/30/2019  \n",
       "2    637.56      CloudFy  10/03/2019  \n",
       "3    637.56      CloudFy  10/04/2019  \n",
       "4    830.86      CloudFy  10/10/2019  "
      ]
     },
     "execution_count": 9,
     "metadata": {},
     "output_type": "execute_result"
    }
   ],
   "source": [
    "flights.head()"
   ]
  },
  {
   "cell_type": "markdown",
   "metadata": {},
   "source": [
    "### **Checking And Handling duplicate values after removing unique identifiers(`travelCode` and `userCode`)**\n"
   ]
  },
  {
   "cell_type": "code",
   "execution_count": 10,
   "metadata": {},
   "outputs": [
    {
     "name": "stdout",
     "output_type": "stream",
     "text": [
      "Percentage of rows involved in duplication: 45.02%\n"
     ]
    }
   ],
   "source": [
    "check_duplicates(flights)\n"
   ]
  },
  {
   "cell_type": "markdown",
   "metadata": {},
   "source": [
    "- This suggest many of the duplicates were hidded due to unique identifiers"
   ]
  },
  {
   "cell_type": "code",
   "execution_count": 11,
   "metadata": {},
   "outputs": [
    {
     "name": "stdout",
     "output_type": "stream",
     "text": [
      "Percentage of rows involved in duplication: 0.00%\n"
     ]
    }
   ],
   "source": [
    "# remove duplicates\n",
    "flights.drop_duplicates(inplace=True)\n",
    "check_duplicates(flights)\n"
   ]
  },
  {
   "cell_type": "markdown",
   "metadata": {},
   "source": [
    "####✈️ **Addressing Duplicate Flight Records**\n",
    "\n",
    "Our analysis revealed a significant number of duplicate entries within the dataset:\n",
    "\n",
    "-   **Substantial Duplicate Presence:**\n",
    "    Approximately **45.02%** of the flight records were identified as duplicates. This high percentage is attributed to multiple unique `travelCode` and `userCode` entries corresponding to identical flight details (route, timing, price, etc.), likely representing different bookings for the same underlying flight service.\n",
    "\n",
    "-   **Critical Preprocessing Step: Duplicate Removal:**\n",
    "    🚮 It is crucial to **remove these duplicate records** before proceeding with further analysis or model training.\n",
    "    -   **Impact on Analysis:** Retaining duplicates would skew descriptive statistics and visualizations, leading to inaccurate interpretations of flight patterns and pricing.\n",
    "    -   **Impact on Modeling:** For machine learning, these duplicates can introduce significant bias, leading to an overestimation of model performance on seen data and poor generalization to new, unseen flight queries. Removing them ensures model integrity and more reliable predictions.\n",
    "\n",
    "---"
   ]
  },
  {
   "cell_type": "markdown",
   "metadata": {},
   "source": [
    "### 📑 **Automated Basic EDA with `ydata-profiling`**\n",
    "- This will calculate basic stats about flights dataset and wont perform any extensive eda which may cause data leakage and bias."
   ]
  },
  {
   "cell_type": "code",
   "execution_count": 12,
   "metadata": {},
   "outputs": [
    {
     "data": {
      "text/html": [
       "<div>\n",
       "<style scoped>\n",
       "    .dataframe tbody tr th:only-of-type {\n",
       "        vertical-align: middle;\n",
       "    }\n",
       "\n",
       "    .dataframe tbody tr th {\n",
       "        vertical-align: top;\n",
       "    }\n",
       "\n",
       "    .dataframe thead th {\n",
       "        text-align: right;\n",
       "    }\n",
       "</style>\n",
       "<table border=\"1\" class=\"dataframe\">\n",
       "  <thead>\n",
       "    <tr style=\"text-align: right;\">\n",
       "      <th></th>\n",
       "      <th>from</th>\n",
       "      <th>to</th>\n",
       "      <th>flightType</th>\n",
       "      <th>price</th>\n",
       "      <th>time</th>\n",
       "      <th>distance</th>\n",
       "      <th>agency</th>\n",
       "      <th>date</th>\n",
       "    </tr>\n",
       "  </thead>\n",
       "  <tbody>\n",
       "    <tr>\n",
       "      <th>0</th>\n",
       "      <td>Recife (PE)</td>\n",
       "      <td>Florianopolis (SC)</td>\n",
       "      <td>firstClass</td>\n",
       "      <td>1434.38</td>\n",
       "      <td>1.76</td>\n",
       "      <td>676.53</td>\n",
       "      <td>FlyingDrops</td>\n",
       "      <td>09/26/2019</td>\n",
       "    </tr>\n",
       "    <tr>\n",
       "      <th>1</th>\n",
       "      <td>Florianopolis (SC)</td>\n",
       "      <td>Recife (PE)</td>\n",
       "      <td>firstClass</td>\n",
       "      <td>1292.29</td>\n",
       "      <td>1.76</td>\n",
       "      <td>676.53</td>\n",
       "      <td>FlyingDrops</td>\n",
       "      <td>09/30/2019</td>\n",
       "    </tr>\n",
       "    <tr>\n",
       "      <th>2</th>\n",
       "      <td>Brasilia (DF)</td>\n",
       "      <td>Florianopolis (SC)</td>\n",
       "      <td>firstClass</td>\n",
       "      <td>1487.52</td>\n",
       "      <td>1.66</td>\n",
       "      <td>637.56</td>\n",
       "      <td>CloudFy</td>\n",
       "      <td>10/03/2019</td>\n",
       "    </tr>\n",
       "    <tr>\n",
       "      <th>3</th>\n",
       "      <td>Florianopolis (SC)</td>\n",
       "      <td>Brasilia (DF)</td>\n",
       "      <td>firstClass</td>\n",
       "      <td>1127.36</td>\n",
       "      <td>1.66</td>\n",
       "      <td>637.56</td>\n",
       "      <td>CloudFy</td>\n",
       "      <td>10/04/2019</td>\n",
       "    </tr>\n",
       "    <tr>\n",
       "      <th>4</th>\n",
       "      <td>Aracaju (SE)</td>\n",
       "      <td>Salvador (BH)</td>\n",
       "      <td>firstClass</td>\n",
       "      <td>1684.05</td>\n",
       "      <td>2.16</td>\n",
       "      <td>830.86</td>\n",
       "      <td>CloudFy</td>\n",
       "      <td>10/10/2019</td>\n",
       "    </tr>\n",
       "  </tbody>\n",
       "</table>\n",
       "</div>"
      ],
      "text/plain": [
       "                 from                  to  flightType    price  time  \\\n",
       "0         Recife (PE)  Florianopolis (SC)  firstClass  1434.38  1.76   \n",
       "1  Florianopolis (SC)         Recife (PE)  firstClass  1292.29  1.76   \n",
       "2       Brasilia (DF)  Florianopolis (SC)  firstClass  1487.52  1.66   \n",
       "3  Florianopolis (SC)       Brasilia (DF)  firstClass  1127.36  1.66   \n",
       "4        Aracaju (SE)       Salvador (BH)  firstClass  1684.05  2.16   \n",
       "\n",
       "   distance       agency        date  \n",
       "0    676.53  FlyingDrops  09/26/2019  \n",
       "1    676.53  FlyingDrops  09/30/2019  \n",
       "2    637.56      CloudFy  10/03/2019  \n",
       "3    637.56      CloudFy  10/04/2019  \n",
       "4    830.86      CloudFy  10/10/2019  "
      ]
     },
     "execution_count": 12,
     "metadata": {},
     "output_type": "execute_result"
    }
   ],
   "source": [
    "flights.head()"
   ]
  },
  {
   "cell_type": "code",
   "execution_count": null,
   "metadata": {},
   "outputs": [],
   "source": [
    "# generate_eda_report(\n",
    "#     flights,\n",
    "#     \"Flights EDA Report\",\n",
    "#     \"../reports/eda/flights_eda_report.html\",\n",
    "#     minimal=True,\n",
    "#     explorative=False,\n",
    "# )"
   ]
  },
  {
   "cell_type": "markdown",
   "metadata": {},
   "source": [
    "### **Column Information and DataType Opimization**"
   ]
  },
  {
   "cell_type": "code",
   "execution_count": 14,
   "metadata": {},
   "outputs": [
    {
     "name": "stdout",
     "output_type": "stream",
     "text": [
      "<class 'pandas.core.frame.DataFrame'>\n",
      "Index: 149484 entries, 0 to 271851\n",
      "Data columns (total 8 columns):\n",
      " #   Column      Non-Null Count   Dtype  \n",
      "---  ------      --------------   -----  \n",
      " 0   from        149484 non-null  object \n",
      " 1   to          149484 non-null  object \n",
      " 2   flightType  149484 non-null  object \n",
      " 3   price       149484 non-null  float64\n",
      " 4   time        149484 non-null  float64\n",
      " 5   distance    149484 non-null  float64\n",
      " 6   agency      149484 non-null  object \n",
      " 7   date        149484 non-null  object \n",
      "dtypes: float64(3), object(5)\n",
      "memory usage: 10.3+ MB\n"
     ]
    }
   ],
   "source": [
    "flights.info()"
   ]
  },
  {
   "cell_type": "code",
   "execution_count": 15,
   "metadata": {},
   "outputs": [
    {
     "data": {
      "text/plain": [
       "from            9\n",
       "to              9\n",
       "flightType      3\n",
       "price         490\n",
       "time           33\n",
       "distance       35\n",
       "agency          3\n",
       "date          999\n",
       "dtype: int64"
      ]
     },
     "execution_count": 15,
     "metadata": {},
     "output_type": "execute_result"
    }
   ],
   "source": [
    "flights.nunique()"
   ]
  },
  {
   "cell_type": "markdown",
   "metadata": {},
   "source": [
    "#### **Breaking Date Column**\n",
    "- Extracting Year, Month and Day from Date column"
   ]
  },
  {
   "cell_type": "code",
   "execution_count": 16,
   "metadata": {},
   "outputs": [
    {
     "data": {
      "text/html": [
       "<div>\n",
       "<style scoped>\n",
       "    .dataframe tbody tr th:only-of-type {\n",
       "        vertical-align: middle;\n",
       "    }\n",
       "\n",
       "    .dataframe tbody tr th {\n",
       "        vertical-align: top;\n",
       "    }\n",
       "\n",
       "    .dataframe thead th {\n",
       "        text-align: right;\n",
       "    }\n",
       "</style>\n",
       "<table border=\"1\" class=\"dataframe\">\n",
       "  <thead>\n",
       "    <tr style=\"text-align: right;\">\n",
       "      <th></th>\n",
       "      <th>from</th>\n",
       "      <th>to</th>\n",
       "      <th>flightType</th>\n",
       "      <th>price</th>\n",
       "      <th>time</th>\n",
       "      <th>distance</th>\n",
       "      <th>agency</th>\n",
       "      <th>date</th>\n",
       "      <th>month</th>\n",
       "      <th>year</th>\n",
       "      <th>day</th>\n",
       "    </tr>\n",
       "  </thead>\n",
       "  <tbody>\n",
       "    <tr>\n",
       "      <th>0</th>\n",
       "      <td>Recife (PE)</td>\n",
       "      <td>Florianopolis (SC)</td>\n",
       "      <td>firstClass</td>\n",
       "      <td>1434.38</td>\n",
       "      <td>1.76</td>\n",
       "      <td>676.53</td>\n",
       "      <td>FlyingDrops</td>\n",
       "      <td>2019-09-26</td>\n",
       "      <td>9</td>\n",
       "      <td>2019</td>\n",
       "      <td>26</td>\n",
       "    </tr>\n",
       "    <tr>\n",
       "      <th>1</th>\n",
       "      <td>Florianopolis (SC)</td>\n",
       "      <td>Recife (PE)</td>\n",
       "      <td>firstClass</td>\n",
       "      <td>1292.29</td>\n",
       "      <td>1.76</td>\n",
       "      <td>676.53</td>\n",
       "      <td>FlyingDrops</td>\n",
       "      <td>2019-09-30</td>\n",
       "      <td>9</td>\n",
       "      <td>2019</td>\n",
       "      <td>30</td>\n",
       "    </tr>\n",
       "    <tr>\n",
       "      <th>2</th>\n",
       "      <td>Brasilia (DF)</td>\n",
       "      <td>Florianopolis (SC)</td>\n",
       "      <td>firstClass</td>\n",
       "      <td>1487.52</td>\n",
       "      <td>1.66</td>\n",
       "      <td>637.56</td>\n",
       "      <td>CloudFy</td>\n",
       "      <td>2019-10-03</td>\n",
       "      <td>10</td>\n",
       "      <td>2019</td>\n",
       "      <td>3</td>\n",
       "    </tr>\n",
       "    <tr>\n",
       "      <th>3</th>\n",
       "      <td>Florianopolis (SC)</td>\n",
       "      <td>Brasilia (DF)</td>\n",
       "      <td>firstClass</td>\n",
       "      <td>1127.36</td>\n",
       "      <td>1.66</td>\n",
       "      <td>637.56</td>\n",
       "      <td>CloudFy</td>\n",
       "      <td>2019-10-04</td>\n",
       "      <td>10</td>\n",
       "      <td>2019</td>\n",
       "      <td>4</td>\n",
       "    </tr>\n",
       "    <tr>\n",
       "      <th>4</th>\n",
       "      <td>Aracaju (SE)</td>\n",
       "      <td>Salvador (BH)</td>\n",
       "      <td>firstClass</td>\n",
       "      <td>1684.05</td>\n",
       "      <td>2.16</td>\n",
       "      <td>830.86</td>\n",
       "      <td>CloudFy</td>\n",
       "      <td>2019-10-10</td>\n",
       "      <td>10</td>\n",
       "      <td>2019</td>\n",
       "      <td>10</td>\n",
       "    </tr>\n",
       "  </tbody>\n",
       "</table>\n",
       "</div>"
      ],
      "text/plain": [
       "                 from                  to  flightType    price  time  \\\n",
       "0         Recife (PE)  Florianopolis (SC)  firstClass  1434.38  1.76   \n",
       "1  Florianopolis (SC)         Recife (PE)  firstClass  1292.29  1.76   \n",
       "2       Brasilia (DF)  Florianopolis (SC)  firstClass  1487.52  1.66   \n",
       "3  Florianopolis (SC)       Brasilia (DF)  firstClass  1127.36  1.66   \n",
       "4        Aracaju (SE)       Salvador (BH)  firstClass  1684.05  2.16   \n",
       "\n",
       "   distance       agency       date  month  year  day  \n",
       "0    676.53  FlyingDrops 2019-09-26      9  2019   26  \n",
       "1    676.53  FlyingDrops 2019-09-30      9  2019   30  \n",
       "2    637.56      CloudFy 2019-10-03     10  2019    3  \n",
       "3    637.56      CloudFy 2019-10-04     10  2019    4  \n",
       "4    830.86      CloudFy 2019-10-10     10  2019   10  "
      ]
     },
     "execution_count": 16,
     "metadata": {},
     "output_type": "execute_result"
    }
   ],
   "source": [
    "flights[\"date\"] = pd.to_datetime(flights[\"date\"], errors=\"coerce\")\n",
    "flights[\"month\"] = flights[\"date\"].dt.month\n",
    "flights[\"year\"] = flights[\"date\"].dt.year\n",
    "flights[\"day\"] = flights[\"date\"].dt.day\n",
    "flights.head()\n"
   ]
  },
  {
   "cell_type": "markdown",
   "metadata": {},
   "source": [
    "#### **Optimize Dataypes**"
   ]
  },
  {
   "cell_type": "code",
   "execution_count": 17,
   "metadata": {},
   "outputs": [
    {
     "name": "stdout",
     "output_type": "stream",
     "text": [
      "<class 'pandas.core.frame.DataFrame'>\n",
      "Index: 149484 entries, 0 to 271851\n",
      "Data columns (total 11 columns):\n",
      " #   Column      Non-Null Count   Dtype         \n",
      "---  ------      --------------   -----         \n",
      " 0   from        149484 non-null  category      \n",
      " 1   to          149484 non-null  category      \n",
      " 2   flightType  149484 non-null  category      \n",
      " 3   price       149484 non-null  float32       \n",
      " 4   time        149484 non-null  float32       \n",
      " 5   distance    149484 non-null  float32       \n",
      " 6   agency      149484 non-null  category      \n",
      " 7   date        149484 non-null  datetime64[ns]\n",
      " 8   month       149484 non-null  uint8         \n",
      " 9   year        149484 non-null  uint16        \n",
      " 10  day         149484 non-null  uint8         \n",
      "dtypes: category(4), datetime64[ns](1), float32(3), uint16(1), uint8(2)\n",
      "memory usage: 5.1 MB\n"
     ]
    }
   ],
   "source": [
    "flights = optimize_dtypes(flights)\n",
    "flights.info()"
   ]
  },
  {
   "cell_type": "code",
   "execution_count": 18,
   "metadata": {},
   "outputs": [
    {
     "name": "stdout",
     "output_type": "stream",
     "text": [
      "<class 'pandas.core.frame.DataFrame'>\n",
      "Index: 149484 entries, 0 to 271851\n",
      "Data columns (total 11 columns):\n",
      " #   Column      Non-Null Count   Dtype         \n",
      "---  ------      --------------   -----         \n",
      " 0   from        149484 non-null  category      \n",
      " 1   to          149484 non-null  category      \n",
      " 2   flightType  149484 non-null  category      \n",
      " 3   price       149484 non-null  float32       \n",
      " 4   time        149484 non-null  float32       \n",
      " 5   distance    149484 non-null  float32       \n",
      " 6   agency      149484 non-null  category      \n",
      " 7   date        149484 non-null  datetime64[ns]\n",
      " 8   month       149484 non-null  uint8         \n",
      " 9   year        149484 non-null  category      \n",
      " 10  day         149484 non-null  uint8         \n",
      "dtypes: category(5), datetime64[ns](1), float32(3), uint8(2)\n",
      "memory usage: 5.0 MB\n"
     ]
    }
   ],
   "source": [
    "flights[\"year\"] = flights[\"year\"].astype(\"category\")\n",
    "flights.info()\n"
   ]
  },
  {
   "cell_type": "markdown",
   "metadata": {},
   "source": [
    "#### **Datatype Optimization Insights**\n",
    "-   🏷️ **Efficient Categorical Handling:**\n",
    "    The `from`, `to`, `flightType`, and `agency` columns, initially `object` type, were identified as having low cardinality. Converting them to the `category` dtype significantly improves memory efficiency and processing speed for these features.\n",
    "\n",
    "-   💾 **Optimized Numeric Representation:**\n",
    "    Numerical columns `price`, `time` (in hours), and `distance` were downcast from their default types (e.g., `float64`) to `float32`. This reduces memory footprint without a practical loss of precision for these specific features.\n",
    "\n",
    "-   📅 **Standardized Date Processing:**\n",
    "    The `date` column was converted to the `datetime64` format. This is crucial for enabling robust time-series analysis and feature extraction (e.g., extracting month, year, day of the week).\n",
    "    `year`, `month`, `day` columns were created from `date` column and `year` was changed into categorical type.\n",
    "\n",
    "-   📉 **Significant Memory Reduction Achieved:**\n",
    "    Collectively, these data type optimizations resulted in a substantial decrease in the dataset's memory usage, from approximately **12 MB** down to **5.8 MB**. This enhances performance for all subsequent data manipulation and modeling tasks.\n"
   ]
  },
  {
   "cell_type": "markdown",
   "metadata": {},
   "source": [
    "### **5 Number Summary**"
   ]
  },
  {
   "cell_type": "code",
   "execution_count": 19,
   "metadata": {},
   "outputs": [
    {
     "data": {
      "text/html": [
       "<div>\n",
       "<style scoped>\n",
       "    .dataframe tbody tr th:only-of-type {\n",
       "        vertical-align: middle;\n",
       "    }\n",
       "\n",
       "    .dataframe tbody tr th {\n",
       "        vertical-align: top;\n",
       "    }\n",
       "\n",
       "    .dataframe thead th {\n",
       "        text-align: right;\n",
       "    }\n",
       "</style>\n",
       "<table border=\"1\" class=\"dataframe\">\n",
       "  <thead>\n",
       "    <tr style=\"text-align: right;\">\n",
       "      <th></th>\n",
       "      <th>from</th>\n",
       "      <th>to</th>\n",
       "      <th>flightType</th>\n",
       "      <th>price</th>\n",
       "      <th>time</th>\n",
       "      <th>distance</th>\n",
       "      <th>agency</th>\n",
       "      <th>date</th>\n",
       "      <th>month</th>\n",
       "      <th>year</th>\n",
       "      <th>day</th>\n",
       "    </tr>\n",
       "  </thead>\n",
       "  <tbody>\n",
       "    <tr>\n",
       "      <th>202235</th>\n",
       "      <td>Sao Paulo (SP)</td>\n",
       "      <td>Florianopolis (SC)</td>\n",
       "      <td>firstClass</td>\n",
       "      <td>1718.280029</td>\n",
       "      <td>1.46</td>\n",
       "      <td>562.140015</td>\n",
       "      <td>Rainbow</td>\n",
       "      <td>2020-03-13</td>\n",
       "      <td>3</td>\n",
       "      <td>2020</td>\n",
       "      <td>13</td>\n",
       "    </tr>\n",
       "    <tr>\n",
       "      <th>141993</th>\n",
       "      <td>Campo Grande (MS)</td>\n",
       "      <td>Sao Paulo (SP)</td>\n",
       "      <td>firstClass</td>\n",
       "      <td>644.159973</td>\n",
       "      <td>0.44</td>\n",
       "      <td>168.220001</td>\n",
       "      <td>Rainbow</td>\n",
       "      <td>2020-06-22</td>\n",
       "      <td>6</td>\n",
       "      <td>2020</td>\n",
       "      <td>22</td>\n",
       "    </tr>\n",
       "    <tr>\n",
       "      <th>171999</th>\n",
       "      <td>Florianopolis (SC)</td>\n",
       "      <td>Sao Paulo (SP)</td>\n",
       "      <td>economic</td>\n",
       "      <td>426.910004</td>\n",
       "      <td>1.46</td>\n",
       "      <td>562.140015</td>\n",
       "      <td>CloudFy</td>\n",
       "      <td>2019-10-05</td>\n",
       "      <td>10</td>\n",
       "      <td>2019</td>\n",
       "      <td>5</td>\n",
       "    </tr>\n",
       "    <tr>\n",
       "      <th>153987</th>\n",
       "      <td>Salvador (BH)</td>\n",
       "      <td>Natal (RN)</td>\n",
       "      <td>economic</td>\n",
       "      <td>690.890015</td>\n",
       "      <td>1.85</td>\n",
       "      <td>710.570007</td>\n",
       "      <td>Rainbow</td>\n",
       "      <td>2021-12-11</td>\n",
       "      <td>12</td>\n",
       "      <td>2021</td>\n",
       "      <td>11</td>\n",
       "    </tr>\n",
       "    <tr>\n",
       "      <th>160926</th>\n",
       "      <td>Natal (RN)</td>\n",
       "      <td>Florianopolis (SC)</td>\n",
       "      <td>premium</td>\n",
       "      <td>1165.989990</td>\n",
       "      <td>1.84</td>\n",
       "      <td>709.369995</td>\n",
       "      <td>CloudFy</td>\n",
       "      <td>2020-01-16</td>\n",
       "      <td>1</td>\n",
       "      <td>2020</td>\n",
       "      <td>16</td>\n",
       "    </tr>\n",
       "  </tbody>\n",
       "</table>\n",
       "</div>"
      ],
      "text/plain": [
       "                      from                  to  flightType        price  time  \\\n",
       "202235      Sao Paulo (SP)  Florianopolis (SC)  firstClass  1718.280029  1.46   \n",
       "141993   Campo Grande (MS)      Sao Paulo (SP)  firstClass   644.159973  0.44   \n",
       "171999  Florianopolis (SC)      Sao Paulo (SP)    economic   426.910004  1.46   \n",
       "153987       Salvador (BH)          Natal (RN)    economic   690.890015  1.85   \n",
       "160926          Natal (RN)  Florianopolis (SC)     premium  1165.989990  1.84   \n",
       "\n",
       "          distance   agency       date  month  year  day  \n",
       "202235  562.140015  Rainbow 2020-03-13      3  2020   13  \n",
       "141993  168.220001  Rainbow 2020-06-22      6  2020   22  \n",
       "171999  562.140015  CloudFy 2019-10-05     10  2019    5  \n",
       "153987  710.570007  Rainbow 2021-12-11     12  2021   11  \n",
       "160926  709.369995  CloudFy 2020-01-16      1  2020   16  "
      ]
     },
     "execution_count": 19,
     "metadata": {},
     "output_type": "execute_result"
    }
   ],
   "source": [
    "flights.sample(5)"
   ]
  },
  {
   "cell_type": "code",
   "execution_count": 20,
   "metadata": {},
   "outputs": [
    {
     "data": {
      "text/html": [
       "<div>\n",
       "<style scoped>\n",
       "    .dataframe tbody tr th:only-of-type {\n",
       "        vertical-align: middle;\n",
       "    }\n",
       "\n",
       "    .dataframe tbody tr th {\n",
       "        vertical-align: top;\n",
       "    }\n",
       "\n",
       "    .dataframe thead th {\n",
       "        text-align: right;\n",
       "    }\n",
       "</style>\n",
       "<table border=\"1\" class=\"dataframe\">\n",
       "  <thead>\n",
       "    <tr style=\"text-align: right;\">\n",
       "      <th></th>\n",
       "      <th>price</th>\n",
       "      <th>time</th>\n",
       "      <th>distance</th>\n",
       "      <th>month</th>\n",
       "      <th>day</th>\n",
       "    </tr>\n",
       "  </thead>\n",
       "  <tbody>\n",
       "    <tr>\n",
       "      <th>count</th>\n",
       "      <td>149484.000000</td>\n",
       "      <td>149484.000000</td>\n",
       "      <td>149484.000000</td>\n",
       "      <td>149484.000000</td>\n",
       "      <td>149484.000000</td>\n",
       "    </tr>\n",
       "    <tr>\n",
       "      <th>mean</th>\n",
       "      <td>949.422363</td>\n",
       "      <td>1.363235</td>\n",
       "      <td>524.676514</td>\n",
       "      <td>6.579473</td>\n",
       "      <td>15.757258</td>\n",
       "    </tr>\n",
       "    <tr>\n",
       "      <th>std</th>\n",
       "      <td>358.446228</td>\n",
       "      <td>0.547743</td>\n",
       "      <td>210.998199</td>\n",
       "      <td>3.587578</td>\n",
       "      <td>8.817627</td>\n",
       "    </tr>\n",
       "    <tr>\n",
       "      <th>min</th>\n",
       "      <td>301.510010</td>\n",
       "      <td>0.440000</td>\n",
       "      <td>168.220001</td>\n",
       "      <td>1.000000</td>\n",
       "      <td>1.000000</td>\n",
       "    </tr>\n",
       "    <tr>\n",
       "      <th>25%</th>\n",
       "      <td>669.830017</td>\n",
       "      <td>0.850000</td>\n",
       "      <td>327.549988</td>\n",
       "      <td>3.000000</td>\n",
       "      <td>8.000000</td>\n",
       "    </tr>\n",
       "    <tr>\n",
       "      <th>50%</th>\n",
       "      <td>898.039978</td>\n",
       "      <td>1.440000</td>\n",
       "      <td>555.739990</td>\n",
       "      <td>7.000000</td>\n",
       "      <td>16.000000</td>\n",
       "    </tr>\n",
       "    <tr>\n",
       "      <th>75%</th>\n",
       "      <td>1214.819946</td>\n",
       "      <td>1.760000</td>\n",
       "      <td>676.530029</td>\n",
       "      <td>10.000000</td>\n",
       "      <td>23.000000</td>\n",
       "    </tr>\n",
       "    <tr>\n",
       "      <th>max</th>\n",
       "      <td>1754.170044</td>\n",
       "      <td>2.440000</td>\n",
       "      <td>937.770020</td>\n",
       "      <td>12.000000</td>\n",
       "      <td>31.000000</td>\n",
       "    </tr>\n",
       "  </tbody>\n",
       "</table>\n",
       "</div>"
      ],
      "text/plain": [
       "               price           time       distance          month  \\\n",
       "count  149484.000000  149484.000000  149484.000000  149484.000000   \n",
       "mean      949.422363       1.363235     524.676514       6.579473   \n",
       "std       358.446228       0.547743     210.998199       3.587578   \n",
       "min       301.510010       0.440000     168.220001       1.000000   \n",
       "25%       669.830017       0.850000     327.549988       3.000000   \n",
       "50%       898.039978       1.440000     555.739990       7.000000   \n",
       "75%      1214.819946       1.760000     676.530029      10.000000   \n",
       "max      1754.170044       2.440000     937.770020      12.000000   \n",
       "\n",
       "                 day  \n",
       "count  149484.000000  \n",
       "mean       15.757258  \n",
       "std         8.817627  \n",
       "min         1.000000  \n",
       "25%         8.000000  \n",
       "50%        16.000000  \n",
       "75%        23.000000  \n",
       "max        31.000000  "
      ]
     },
     "execution_count": 20,
     "metadata": {},
     "output_type": "execute_result"
    }
   ],
   "source": [
    "flights.describe(include=\"number\")"
   ]
  },
  {
   "cell_type": "code",
   "execution_count": 21,
   "metadata": {},
   "outputs": [
    {
     "data": {
      "text/html": [
       "<div>\n",
       "<style scoped>\n",
       "    .dataframe tbody tr th:only-of-type {\n",
       "        vertical-align: middle;\n",
       "    }\n",
       "\n",
       "    .dataframe tbody tr th {\n",
       "        vertical-align: top;\n",
       "    }\n",
       "\n",
       "    .dataframe thead th {\n",
       "        text-align: right;\n",
       "    }\n",
       "</style>\n",
       "<table border=\"1\" class=\"dataframe\">\n",
       "  <thead>\n",
       "    <tr style=\"text-align: right;\">\n",
       "      <th></th>\n",
       "      <th>from</th>\n",
       "      <th>to</th>\n",
       "      <th>flightType</th>\n",
       "      <th>agency</th>\n",
       "      <th>year</th>\n",
       "    </tr>\n",
       "  </thead>\n",
       "  <tbody>\n",
       "    <tr>\n",
       "      <th>count</th>\n",
       "      <td>149484</td>\n",
       "      <td>149484</td>\n",
       "      <td>149484</td>\n",
       "      <td>149484</td>\n",
       "      <td>149484</td>\n",
       "    </tr>\n",
       "    <tr>\n",
       "      <th>unique</th>\n",
       "      <td>9</td>\n",
       "      <td>9</td>\n",
       "      <td>3</td>\n",
       "      <td>3</td>\n",
       "      <td>5</td>\n",
       "    </tr>\n",
       "    <tr>\n",
       "      <th>top</th>\n",
       "      <td>Florianopolis (SC)</td>\n",
       "      <td>Florianopolis (SC)</td>\n",
       "      <td>firstClass</td>\n",
       "      <td>Rainbow</td>\n",
       "      <td>2020</td>\n",
       "    </tr>\n",
       "    <tr>\n",
       "      <th>freq</th>\n",
       "      <td>18800</td>\n",
       "      <td>31438</td>\n",
       "      <td>64169</td>\n",
       "      <td>64167</td>\n",
       "      <td>55095</td>\n",
       "    </tr>\n",
       "  </tbody>\n",
       "</table>\n",
       "</div>"
      ],
      "text/plain": [
       "                      from                  to  flightType   agency    year\n",
       "count               149484              149484      149484   149484  149484\n",
       "unique                   9                   9           3        3       5\n",
       "top     Florianopolis (SC)  Florianopolis (SC)  firstClass  Rainbow    2020\n",
       "freq                 18800               31438       64169    64167   55095"
      ]
     },
     "execution_count": 21,
     "metadata": {},
     "output_type": "execute_result"
    }
   ],
   "source": [
    "flights.describe(include=[\"object\", \"category\"])"
   ]
  },
  {
   "cell_type": "markdown",
   "metadata": {},
   "source": [
    "\n",
    "#### **5 Number Summary Insights**\n",
    "\n",
    "- **Price:**  \n",
    "  The average flight price is about **949 units**, with prices ranging from **301** to **1,754 units**. The median price (**898 units**) is slightly below the mean, indicating a mild right skew—there are some higher-priced flights pulling the average up. The interquartile range (669.83 to 1,214.82) shows that most flights are priced within this band, but there are notable outliers at the higher end.\n",
    "\n",
    "- **Time:**  \n",
    "  The typical flight duration is **1.36 hours** on average, with a standard deviation of **0.55 hours**, reflecting moderate variability. Flight times span from **0.44 hours** (about 26 minutes) to **2.44 hours**. The median duration (**1.44 hours**) is slightly above the mean, suggesting a relatively symmetric distribution with a slight tendency toward longer flights.\n",
    "\n",
    "- **Distance:**  \n",
    "  Flights cover an average distance of **525 km**, with a standard deviation of **211 km**, indicating a broad range of routes. The minimum distance is **168 km**, and the maximum is **938 km**. The median distance (**556 km**) is a bit higher than the mean, hinting at a slight left skew—there are more shorter flights, but a few longer routes increase the average.\n",
    "\n",
    "- **Categorical Features:**  \n",
    "  There are **9 unique origins** and **9 unique destinations**, showing a diverse network of routes. The most frequent route involves **Florianopolis (SC)**, both as origin and destination, indicating it is a major hub.  \n",
    "  **FirstClass** is the most common flight type, and **Rainbow** is the leading agency, each accounting for a significant portion of the data.  \n",
    "  The dataset spans **999 unique dates**, with the busiest day being **12/19/2019** (358 flights), suggesting certain dates experience much higher demand, possibly due to holidays or events.\n",
    "\n",
    "- **Overall:**  \n",
    "  The data reflects a mix of short and medium-haul flights, with a few dominant routes and service providers. The presence of both high and low outliers in price and distance, as well as concentrated peaks in demand, should be considered when building predictive models, as they may impact model performance and generalizability. The wide temporal coverage supports robust time-based analysis and model validation."
   ]
  },
  {
   "cell_type": "markdown",
   "metadata": {},
   "source": [
    "### **Date Analysis for Splitting Criteria**\n",
    "\n",
    "- To prevent data leakage, it’s best practice to use only past data for EDA and model training, ensuring that future data is reserved for validation and testing.\n",
    "- Creating date-based splits ensures realistic model evaluation and maintains the integrity of your results."
   ]
  },
  {
   "cell_type": "code",
   "execution_count": 22,
   "metadata": {},
   "outputs": [
    {
     "data": {
      "text/html": [
       "<div>\n",
       "<style scoped>\n",
       "    .dataframe tbody tr th:only-of-type {\n",
       "        vertical-align: middle;\n",
       "    }\n",
       "\n",
       "    .dataframe tbody tr th {\n",
       "        vertical-align: top;\n",
       "    }\n",
       "\n",
       "    .dataframe thead th {\n",
       "        text-align: right;\n",
       "    }\n",
       "</style>\n",
       "<table border=\"1\" class=\"dataframe\">\n",
       "  <thead>\n",
       "    <tr style=\"text-align: right;\">\n",
       "      <th></th>\n",
       "      <th>from</th>\n",
       "      <th>to</th>\n",
       "      <th>flightType</th>\n",
       "      <th>price</th>\n",
       "      <th>time</th>\n",
       "      <th>distance</th>\n",
       "      <th>agency</th>\n",
       "      <th>date</th>\n",
       "      <th>month</th>\n",
       "      <th>year</th>\n",
       "      <th>day</th>\n",
       "    </tr>\n",
       "  </thead>\n",
       "  <tbody>\n",
       "    <tr>\n",
       "      <th>0</th>\n",
       "      <td>Recife (PE)</td>\n",
       "      <td>Florianopolis (SC)</td>\n",
       "      <td>firstClass</td>\n",
       "      <td>1434.380005</td>\n",
       "      <td>1.76</td>\n",
       "      <td>676.530029</td>\n",
       "      <td>FlyingDrops</td>\n",
       "      <td>2019-09-26</td>\n",
       "      <td>9</td>\n",
       "      <td>2019</td>\n",
       "      <td>26</td>\n",
       "    </tr>\n",
       "    <tr>\n",
       "      <th>1</th>\n",
       "      <td>Florianopolis (SC)</td>\n",
       "      <td>Recife (PE)</td>\n",
       "      <td>firstClass</td>\n",
       "      <td>1292.290039</td>\n",
       "      <td>1.76</td>\n",
       "      <td>676.530029</td>\n",
       "      <td>FlyingDrops</td>\n",
       "      <td>2019-09-30</td>\n",
       "      <td>9</td>\n",
       "      <td>2019</td>\n",
       "      <td>30</td>\n",
       "    </tr>\n",
       "    <tr>\n",
       "      <th>2</th>\n",
       "      <td>Brasilia (DF)</td>\n",
       "      <td>Florianopolis (SC)</td>\n",
       "      <td>firstClass</td>\n",
       "      <td>1487.520020</td>\n",
       "      <td>1.66</td>\n",
       "      <td>637.559998</td>\n",
       "      <td>CloudFy</td>\n",
       "      <td>2019-10-03</td>\n",
       "      <td>10</td>\n",
       "      <td>2019</td>\n",
       "      <td>3</td>\n",
       "    </tr>\n",
       "    <tr>\n",
       "      <th>3</th>\n",
       "      <td>Florianopolis (SC)</td>\n",
       "      <td>Brasilia (DF)</td>\n",
       "      <td>firstClass</td>\n",
       "      <td>1127.359985</td>\n",
       "      <td>1.66</td>\n",
       "      <td>637.559998</td>\n",
       "      <td>CloudFy</td>\n",
       "      <td>2019-10-04</td>\n",
       "      <td>10</td>\n",
       "      <td>2019</td>\n",
       "      <td>4</td>\n",
       "    </tr>\n",
       "    <tr>\n",
       "      <th>4</th>\n",
       "      <td>Aracaju (SE)</td>\n",
       "      <td>Salvador (BH)</td>\n",
       "      <td>firstClass</td>\n",
       "      <td>1684.050049</td>\n",
       "      <td>2.16</td>\n",
       "      <td>830.859985</td>\n",
       "      <td>CloudFy</td>\n",
       "      <td>2019-10-10</td>\n",
       "      <td>10</td>\n",
       "      <td>2019</td>\n",
       "      <td>10</td>\n",
       "    </tr>\n",
       "  </tbody>\n",
       "</table>\n",
       "</div>"
      ],
      "text/plain": [
       "                 from                  to  flightType        price  time  \\\n",
       "0         Recife (PE)  Florianopolis (SC)  firstClass  1434.380005  1.76   \n",
       "1  Florianopolis (SC)         Recife (PE)  firstClass  1292.290039  1.76   \n",
       "2       Brasilia (DF)  Florianopolis (SC)  firstClass  1487.520020  1.66   \n",
       "3  Florianopolis (SC)       Brasilia (DF)  firstClass  1127.359985  1.66   \n",
       "4        Aracaju (SE)       Salvador (BH)  firstClass  1684.050049  2.16   \n",
       "\n",
       "     distance       agency       date  month  year  day  \n",
       "0  676.530029  FlyingDrops 2019-09-26      9  2019   26  \n",
       "1  676.530029  FlyingDrops 2019-09-30      9  2019   30  \n",
       "2  637.559998      CloudFy 2019-10-03     10  2019    3  \n",
       "3  637.559998      CloudFy 2019-10-04     10  2019    4  \n",
       "4  830.859985      CloudFy 2019-10-10     10  2019   10  "
      ]
     },
     "execution_count": 22,
     "metadata": {},
     "output_type": "execute_result"
    }
   ],
   "source": [
    "flights.head()"
   ]
  },
  {
   "cell_type": "code",
   "execution_count": 23,
   "metadata": {},
   "outputs": [
    {
     "name": "stdout",
     "output_type": "stream",
     "text": [
      "<class 'pandas.core.frame.DataFrame'>\n",
      "Index: 149484 entries, 0 to 271851\n",
      "Data columns (total 11 columns):\n",
      " #   Column      Non-Null Count   Dtype         \n",
      "---  ------      --------------   -----         \n",
      " 0   from        149484 non-null  category      \n",
      " 1   to          149484 non-null  category      \n",
      " 2   flightType  149484 non-null  category      \n",
      " 3   price       149484 non-null  float32       \n",
      " 4   time        149484 non-null  float32       \n",
      " 5   distance    149484 non-null  float32       \n",
      " 6   agency      149484 non-null  category      \n",
      " 7   date        149484 non-null  datetime64[ns]\n",
      " 8   month       149484 non-null  uint8         \n",
      " 9   year        149484 non-null  category      \n",
      " 10  day         149484 non-null  uint8         \n",
      "dtypes: category(5), datetime64[ns](1), float32(3), uint8(2)\n",
      "memory usage: 5.0 MB\n"
     ]
    }
   ],
   "source": [
    "# check datatypes for new columns and optimize them\n",
    "# flights.info()\n",
    "flights = optimize_dtypes(flights)\n",
    "flights.info()"
   ]
  },
  {
   "cell_type": "code",
   "execution_count": 24,
   "metadata": {},
   "outputs": [
    {
     "name": "stdout",
     "output_type": "stream",
     "text": [
      "--- Date Stats for: Date Column ---\n",
      "Min date: 2019-09-26\n",
      "Max date: 2023-07-24\n",
      "Time span: 1397 days 00:00:00\n",
      "Unique days: 999\n",
      "\n",
      "Year counts:\n",
      " date\n",
      "2019    16153\n",
      "2020    55095\n",
      "2021    43792\n",
      "2022    28912\n",
      "2023     5532\n",
      "Name: count, dtype: int64\n",
      "\n",
      "Month counts:\n",
      " date\n",
      "1     13903\n",
      "2     12335\n",
      "3     12651\n",
      "4     12330\n",
      "5     11916\n",
      "6     10743\n",
      "7     11137\n",
      "8     10392\n",
      "9     10792\n",
      "10    15018\n",
      "11    13965\n",
      "12    14302\n",
      "Name: count, dtype: int64\n",
      "\n",
      "Unique year-months: 47\n",
      "--- End of Stats ---\n"
     ]
    }
   ],
   "source": [
    "get_date_stats(flights[\"date\"])"
   ]
  },
  {
   "cell_type": "code",
   "execution_count": 25,
   "metadata": {},
   "outputs": [
    {
     "name": "stderr",
     "output_type": "stream",
     "text": [
      "C:\\Users\\dave\\AppData\\Local\\Temp\\ipykernel_6908\\3520992584.py:1: FutureWarning: The default of observed=False is deprecated and will be changed to True in a future version of pandas. Pass observed=False to retain current behavior or observed=True to adopt the future default and silence this warning.\n",
      "  flights.groupby([\"month\", \"year\"]).size()\n"
     ]
    },
    {
     "data": {
      "text/plain": [
       "month  year\n",
       "1      2019       0\n",
       "       2020    5074\n",
       "       2021    4285\n",
       "       2022    3142\n",
       "       2023    1402\n",
       "2      2019       0\n",
       "       2020    4662\n",
       "       2021    3793\n",
       "       2022    2719\n",
       "       2023    1161\n",
       "3      2019       0\n",
       "       2020    4799\n",
       "       2021    3856\n",
       "       2022    2871\n",
       "       2023    1125\n",
       "4      2019       0\n",
       "       2020    4724\n",
       "       2021    3994\n",
       "       2022    2798\n",
       "       2023     814\n",
       "5      2019       0\n",
       "       2020    4822\n",
       "       2021    3907\n",
       "       2022    2644\n",
       "       2023     543\n",
       "6      2019       0\n",
       "       2020    4452\n",
       "       2021    3402\n",
       "       2022    2527\n",
       "       2023     362\n",
       "7      2019       0\n",
       "       2020    4700\n",
       "       2021    3866\n",
       "       2022    2446\n",
       "       2023     125\n",
       "8      2019       0\n",
       "       2020    4677\n",
       "       2021    3504\n",
       "       2022    2211\n",
       "       2023       0\n",
       "9      2019    1148\n",
       "       2020    4050\n",
       "       2021    3403\n",
       "       2022    2191\n",
       "       2023       0\n",
       "10     2019    4995\n",
       "       2020    4645\n",
       "       2021    3385\n",
       "       2022    1993\n",
       "       2023       0\n",
       "11     2019    4984\n",
       "       2020    4261\n",
       "       2021    3106\n",
       "       2022    1614\n",
       "       2023       0\n",
       "12     2019    5026\n",
       "       2020    4229\n",
       "       2021    3291\n",
       "       2022    1756\n",
       "       2023       0\n",
       "dtype: int64"
      ]
     },
     "execution_count": 25,
     "metadata": {},
     "output_type": "execute_result"
    }
   ],
   "source": [
    "flights.groupby([\"month\", \"year\"]).size()\n"
   ]
  },
  {
   "cell_type": "code",
   "execution_count": 26,
   "metadata": {},
   "outputs": [
    {
     "data": {
      "image/png": "[encoded data removed]",
      "text/plain": [
       "<Figure size 800x500 with 1 Axes>"
      ]
     },
     "metadata": {},
     "output_type": "display_data"
    },
    {
     "data": {
      "image/png": "[encoded data removed]",
      "text/plain": [
       "<Figure size 1000x500 with 1 Axes>"
      ]
     },
     "metadata": {},
     "output_type": "display_data"
    }
   ],
   "source": [
    "plot_flights_per_year(flights[\"date\"])\n",
    "plot_flights_per_month(flights[\"date\"])"
   ]
  },
  {
   "cell_type": "code",
   "execution_count": 27,
   "metadata": {},
   "outputs": [
    {
     "name": "stdout",
     "output_type": "stream",
     "text": [
      "Rows between 2019-09-26 and 2023-07-24: 149484 (100.00% of total)\n",
      "149484\n",
      "Rows between 2019-09-26 and 2021-05-22: 89935 (60.16% of total)\n",
      "89935\n",
      "Rows between 2021-05-22 and 2021-12-05: 22568 (15.10% of total)\n",
      "22568\n",
      "Rows between 2021-12-05 and 2022-08-10: 22556 (15.09% of total)\n",
      "22556\n",
      "Rows between 2022-08-10 and 2023-07-24: 14675 (9.82% of total)\n",
      "14675\n"
     ]
    }
   ],
   "source": [
    "# Min date: 2019-09-26\n",
    "# Max date: 2023-07-24\n",
    "print(count_rows_between_dates(flights, \"date\", \"2019-09-26\", \"2023-07-24\"))\n",
    "# view split for training set keeping in mind the seasonality of the data\n",
    "print(count_rows_between_dates(flights, \"date\", \"2019-09-26\", \"2021-05-22\"))\n",
    "# view split for validation set\n",
    "print(count_rows_between_dates(flights, \"date\", \"2021-05-22\", \"2021-12-05\"))\n",
    "# view split for test set\n",
    "print(count_rows_between_dates(flights, \"date\", \"2021-12-05\", \"2022-08-10\"))\n",
    "# view split for production simulation\n",
    "print(count_rows_between_dates(flights, \"date\", \"2022-08-10\", \"2023-07-24\"))\n"
   ]
  },
  {
   "cell_type": "markdown",
   "metadata": {},
   "source": [
    "#### ✈️ Flight Data Split Summary\n",
    "\n",
    "| Split                  | Date Range                | Rows   | % of Total |\n",
    "|------------------------|--------------------------|--------|------------|\n",
    "| **Train**              | 2019-09-26 to 2021-05-22 | 89,935 | 60.16%     |\n",
    "| **Validation**         | 2021-05-22 to 2021-12-05 | 22,568 | 15.10%     |\n",
    "| **Test**               | 2021-12-05 to 2022-08-10 | 22,556 | 15.09%     |\n",
    "| **Production Sim** 🚦  | 2022-08-10 to 2023-07-24 | 14,675 | 9.82%      |\n",
    "| **Total**              | 2019-09-26 to 2023-07-24 | 149,484| 100.00%    |\n",
    "\n",
    "#### 📝 Insights\n",
    "\n",
    "- **Chronological splits** prevent data leakage and reflect real-world model deployment.\n",
    "- **Seasonality is preserved**: Each split covers multiple months, capturing holiday and travel patterns.\n",
    "- **Balanced validation and test sets** ensure reliable tuning and unbiased evaluation.\n",
    "- **Production simulation** (🚦) uses the latest data to mimic real-world retraining and drift monitoring.\n",
    "\n",
    "#### 💡 Why Split This Way?\n",
    "\n",
    "- Mimics how models are used in production (train on past, predict on future).\n",
    "- Ensures all seasonal and business cycles are represented.\n",
    "- Supports robust model evaluation and lifecycle management."
   ]
  },
  {
   "cell_type": "markdown",
   "metadata": {},
   "source": [
    "### **Missing Values**\n"
   ]
  },
  {
   "cell_type": "code",
   "execution_count": 28,
   "metadata": {},
   "outputs": [
    {
     "data": {
      "text/html": [
       "<div>\n",
       "<style scoped>\n",
       "    .dataframe tbody tr th:only-of-type {\n",
       "        vertical-align: middle;\n",
       "    }\n",
       "\n",
       "    .dataframe tbody tr th {\n",
       "        vertical-align: top;\n",
       "    }\n",
       "\n",
       "    .dataframe thead th {\n",
       "        text-align: right;\n",
       "    }\n",
       "</style>\n",
       "<table border=\"1\" class=\"dataframe\">\n",
       "  <thead>\n",
       "    <tr style=\"text-align: right;\">\n",
       "      <th></th>\n",
       "      <th>Missing Values</th>\n",
       "      <th>Percentage</th>\n",
       "    </tr>\n",
       "  </thead>\n",
       "  <tbody>\n",
       "    <tr>\n",
       "      <th>from</th>\n",
       "      <td>0</td>\n",
       "      <td>0.0</td>\n",
       "    </tr>\n",
       "    <tr>\n",
       "      <th>to</th>\n",
       "      <td>0</td>\n",
       "      <td>0.0</td>\n",
       "    </tr>\n",
       "    <tr>\n",
       "      <th>flightType</th>\n",
       "      <td>0</td>\n",
       "      <td>0.0</td>\n",
       "    </tr>\n",
       "    <tr>\n",
       "      <th>price</th>\n",
       "      <td>0</td>\n",
       "      <td>0.0</td>\n",
       "    </tr>\n",
       "    <tr>\n",
       "      <th>time</th>\n",
       "      <td>0</td>\n",
       "      <td>0.0</td>\n",
       "    </tr>\n",
       "    <tr>\n",
       "      <th>distance</th>\n",
       "      <td>0</td>\n",
       "      <td>0.0</td>\n",
       "    </tr>\n",
       "    <tr>\n",
       "      <th>agency</th>\n",
       "      <td>0</td>\n",
       "      <td>0.0</td>\n",
       "    </tr>\n",
       "    <tr>\n",
       "      <th>date</th>\n",
       "      <td>0</td>\n",
       "      <td>0.0</td>\n",
       "    </tr>\n",
       "    <tr>\n",
       "      <th>month</th>\n",
       "      <td>0</td>\n",
       "      <td>0.0</td>\n",
       "    </tr>\n",
       "    <tr>\n",
       "      <th>year</th>\n",
       "      <td>0</td>\n",
       "      <td>0.0</td>\n",
       "    </tr>\n",
       "    <tr>\n",
       "      <th>day</th>\n",
       "      <td>0</td>\n",
       "      <td>0.0</td>\n",
       "    </tr>\n",
       "  </tbody>\n",
       "</table>\n",
       "</div>"
      ],
      "text/plain": [
       "            Missing Values  Percentage\n",
       "from                     0         0.0\n",
       "to                       0         0.0\n",
       "flightType               0         0.0\n",
       "price                    0         0.0\n",
       "time                     0         0.0\n",
       "distance                 0         0.0\n",
       "agency                   0         0.0\n",
       "date                     0         0.0\n",
       "month                    0         0.0\n",
       "year                     0         0.0\n",
       "day                      0         0.0"
      ]
     },
     "execution_count": 28,
     "metadata": {},
     "output_type": "execute_result"
    }
   ],
   "source": [
    "check_missing(flights)"
   ]
  },
  {
   "cell_type": "markdown",
   "metadata": {},
   "source": [
    "#### 🕵️‍♂️ **Missing Value Assessment**\n",
    "\n",
    "-   ✅ **No Missing Data Found:** A thorough check for missing values across all columns and rows confirmed that the current dataset is complete. There are **no missing values** in any cell.\n",
    "\n",
    "-   **Implication for Current Analysis:** This is a positive finding for the initial EDA and model prototyping phases, as it simplifies preprocessing by eliminating the need for immediate imputation strategies for the existing data.\n",
    "\n",
    "-   **Consideration for Production Pipelines:** While the current dataset is clean, it's crucial to design production MLOps pipelines to be robust against potential missing data in future incoming flight records. Therefore, strategies for handling missing values (e.g., imputation or flagging) should still be incorporated into the production data preprocessing steps."
   ]
  },
  {
   "cell_type": "markdown",
   "metadata": {},
   "source": [
    "###"
   ]
  },
  {
   "cell_type": "markdown",
   "metadata": {},
   "source": [
    "## **Analysis on Training Set**"
   ]
  },
  {
   "cell_type": "markdown",
   "metadata": {},
   "source": [
    "### **Spitting Data into Training, Valdiation, Testing and Holdout(For Production Simulation) Sets**\n",
    "\n",
    "\n",
    "| Split                  | Date Range                | Rows   | % of Total |\n",
    "|------------------------|--------------------------|--------|------------|\n",
    "| **Train**              | 2019-09-26 to 2021-05-22 | 89,935 | 60.16%     |\n",
    "| **Validation**         | 2021-05-23 to 2021-12-05 | 22,568 | 15.10%     |\n",
    "| **Test**               | 2021-12-06 to 2022-08-10 | 22,556 | 15.09%     |\n",
    "| **Production Sim** 🚦  | 2022-08-11 to 2023-07-24 | 14,675 | 9.82%      |\n",
    "| **Total**              | 2019-09-26 to 2023-07-24 | 149,484| 100.00%    |\n",
    "\n"
   ]
  },
  {
   "cell_type": "code",
   "execution_count": 29,
   "metadata": {},
   "outputs": [],
   "source": [
    "all_sets_dict = chronological_split(\n",
    "    flights,\n",
    "    \"date\",\n",
    "    \"price\",\n",
    "    \"2021-05-22\",  # train_end\n",
    "    \"2021-12-05\",  # val_end\n",
    "    \"2022-08-10\",  # test_end\n",
    ")\n",
    "\n",
    "# Now unpack each tuple from the dictionary\n",
    "train_x, train_y = all_sets_dict[\"train\"]\n",
    "validation_x, validation_y = all_sets_dict[\"validation\"]\n",
    "test_x, test_y = all_sets_dict[\"test\"]\n",
    "\n",
    "# For the 'holdout' set:\n",
    "holdout_x, holdout_y = all_sets_dict[\"holdout\"]\n"
   ]
  },
  {
   "cell_type": "code",
   "execution_count": 30,
   "metadata": {},
   "outputs": [
    {
     "data": {
      "text/html": [
       "<div>\n",
       "<style scoped>\n",
       "    .dataframe tbody tr th:only-of-type {\n",
       "        vertical-align: middle;\n",
       "    }\n",
       "\n",
       "    .dataframe tbody tr th {\n",
       "        vertical-align: top;\n",
       "    }\n",
       "\n",
       "    .dataframe thead th {\n",
       "        text-align: right;\n",
       "    }\n",
       "</style>\n",
       "<table border=\"1\" class=\"dataframe\">\n",
       "  <thead>\n",
       "    <tr style=\"text-align: right;\">\n",
       "      <th></th>\n",
       "      <th>from</th>\n",
       "      <th>to</th>\n",
       "      <th>flightType</th>\n",
       "      <th>time</th>\n",
       "      <th>distance</th>\n",
       "      <th>agency</th>\n",
       "      <th>date</th>\n",
       "      <th>month</th>\n",
       "      <th>year</th>\n",
       "      <th>day</th>\n",
       "      <th>price</th>\n",
       "    </tr>\n",
       "  </thead>\n",
       "  <tbody>\n",
       "    <tr>\n",
       "      <th>18791</th>\n",
       "      <td>Sao Paulo (SP)</td>\n",
       "      <td>Recife (PE)</td>\n",
       "      <td>economic</td>\n",
       "      <td>1.26</td>\n",
       "      <td>486.519989</td>\n",
       "      <td>Rainbow</td>\n",
       "      <td>2020-01-17</td>\n",
       "      <td>1</td>\n",
       "      <td>2020</td>\n",
       "      <td>17</td>\n",
       "      <td>827.119995</td>\n",
       "    </tr>\n",
       "    <tr>\n",
       "      <th>55134</th>\n",
       "      <td>Recife (PE)</td>\n",
       "      <td>Brasilia (DF)</td>\n",
       "      <td>firstClass</td>\n",
       "      <td>0.63</td>\n",
       "      <td>242.210007</td>\n",
       "      <td>CloudFy</td>\n",
       "      <td>2020-09-10</td>\n",
       "      <td>9</td>\n",
       "      <td>2020</td>\n",
       "      <td>10</td>\n",
       "      <td>709.250000</td>\n",
       "    </tr>\n",
       "    <tr>\n",
       "      <th>64731</th>\n",
       "      <td>Rio de Janeiro (RJ)</td>\n",
       "      <td>Sao Paulo (SP)</td>\n",
       "      <td>economic</td>\n",
       "      <td>0.86</td>\n",
       "      <td>331.890015</td>\n",
       "      <td>Rainbow</td>\n",
       "      <td>2020-11-14</td>\n",
       "      <td>11</td>\n",
       "      <td>2020</td>\n",
       "      <td>14</td>\n",
       "      <td>452.559998</td>\n",
       "    </tr>\n",
       "    <tr>\n",
       "      <th>15090</th>\n",
       "      <td>Campo Grande (MS)</td>\n",
       "      <td>Brasilia (DF)</td>\n",
       "      <td>premium</td>\n",
       "      <td>0.72</td>\n",
       "      <td>277.700012</td>\n",
       "      <td>CloudFy</td>\n",
       "      <td>2019-12-26</td>\n",
       "      <td>12</td>\n",
       "      <td>2019</td>\n",
       "      <td>26</td>\n",
       "      <td>661.320007</td>\n",
       "    </tr>\n",
       "    <tr>\n",
       "      <th>72230</th>\n",
       "      <td>Recife (PE)</td>\n",
       "      <td>Natal (RN)</td>\n",
       "      <td>economic</td>\n",
       "      <td>0.58</td>\n",
       "      <td>222.669998</td>\n",
       "      <td>Rainbow</td>\n",
       "      <td>2021-01-08</td>\n",
       "      <td>1</td>\n",
       "      <td>2021</td>\n",
       "      <td>8</td>\n",
       "      <td>360.220001</td>\n",
       "    </tr>\n",
       "  </tbody>\n",
       "</table>\n",
       "</div>"
      ],
      "text/plain": [
       "                      from              to  flightType  time    distance  \\\n",
       "18791       Sao Paulo (SP)     Recife (PE)    economic  1.26  486.519989   \n",
       "55134          Recife (PE)   Brasilia (DF)  firstClass  0.63  242.210007   \n",
       "64731  Rio de Janeiro (RJ)  Sao Paulo (SP)    economic  0.86  331.890015   \n",
       "15090    Campo Grande (MS)   Brasilia (DF)     premium  0.72  277.700012   \n",
       "72230          Recife (PE)      Natal (RN)    economic  0.58  222.669998   \n",
       "\n",
       "        agency       date  month  year  day       price  \n",
       "18791  Rainbow 2020-01-17      1  2020   17  827.119995  \n",
       "55134  CloudFy 2020-09-10      9  2020   10  709.250000  \n",
       "64731  Rainbow 2020-11-14     11  2020   14  452.559998  \n",
       "15090  CloudFy 2019-12-26     12  2019   26  661.320007  \n",
       "72230  Rainbow 2021-01-08      1  2021    8  360.220001  "
      ]
     },
     "execution_count": 30,
     "metadata": {},
     "output_type": "execute_result"
    }
   ],
   "source": [
    "flights_train = train_x.copy()\n",
    "flights_train[\"price\"] = train_y\n",
    "flights_train.sample(5)"
   ]
  },
  {
   "cell_type": "markdown",
   "metadata": {},
   "source": [
    "### 📑 **Extensive Automated EDA for Training Set**\n",
    "- This will generate a extensive EDA report fot the training set."
   ]
  },
  {
   "cell_type": "code",
   "execution_count": 31,
   "metadata": {},
   "outputs": [],
   "source": [
    "report_cols = [\n",
    "    \"from\",\n",
    "    \"to\",\n",
    "    \"flightType\",\n",
    "    \"time\",\n",
    "    \"distance\",\n",
    "    \"agency\",\n",
    "    \"date\",\n",
    "    \"month\",\n",
    "    \"day\",\n",
    "    \"price\",\n",
    "]\n"
   ]
  },
  {
   "cell_type": "code",
   "execution_count": 32,
   "metadata": {},
   "outputs": [
    {
     "name": "stdout",
     "output_type": "stream",
     "text": [
      "<class 'pandas.core.frame.DataFrame'>\n",
      "Index: 89935 entries, 0 to 89934\n",
      "Data columns (total 11 columns):\n",
      " #   Column      Non-Null Count  Dtype         \n",
      "---  ------      --------------  -----         \n",
      " 0   from        89935 non-null  category      \n",
      " 1   to          89935 non-null  category      \n",
      " 2   flightType  89935 non-null  category      \n",
      " 3   time        89935 non-null  float32       \n",
      " 4   distance    89935 non-null  float32       \n",
      " 5   agency      89935 non-null  category      \n",
      " 6   date        89935 non-null  datetime64[ns]\n",
      " 7   month       89935 non-null  uint8         \n",
      " 8   year        89935 non-null  category      \n",
      " 9   day         89935 non-null  uint8         \n",
      " 10  price       89935 non-null  float32       \n",
      "dtypes: category(5), datetime64[ns](1), float32(3), uint8(2)\n",
      "memory usage: 3.0 MB\n"
     ]
    }
   ],
   "source": [
    "flights_train.info()"
   ]
  },
  {
   "cell_type": "code",
   "execution_count": null,
   "metadata": {},
   "outputs": [
    {
     "data": {
      "application/vnd.jupyter.widget-view+json": {
       "model_id": "e564073d2f784eef9f3d80bd843d4d7c",
       "version_major": 2,
       "version_minor": 0
      },
      "text/plain": [
       "Summarize dataset:   0%|          | 0/5 [00:00<?, ?it/s]"
      ]
     },
     "metadata": {},
     "output_type": "display_data"
    },
    {
     "name": "stderr",
     "output_type": "stream",
     "text": [
      "100%|██████████| 11/11 [00:00<00:00, 31.59it/s]\n"
     ]
    },
    {
     "data": {
      "application/vnd.jupyter.widget-view+json": {
       "model_id": "f8e84815b2284b9d998e5f85821b19cb",
       "version_major": 2,
       "version_minor": 0
      },
      "text/plain": [
       "Generate report structure:   0%|          | 0/1 [00:00<?, ?it/s]"
      ]
     },
     "metadata": {},
     "output_type": "display_data"
    },
    {
     "data": {
      "application/vnd.jupyter.widget-view+json": {
       "model_id": "b768e1faca1f484b87acf4a78094829a",
       "version_major": 2,
       "version_minor": 0
      },
      "text/plain": [
       "Render HTML:   0%|          | 0/1 [00:00<?, ?it/s]"
      ]
     },
     "metadata": {},
     "output_type": "display_data"
    },
    {
     "data": {
      "application/vnd.jupyter.widget-view+json": {
       "model_id": "dd839157a4904a32875e1d6821f1991f",
       "version_major": 2,
       "version_minor": 0
      },
      "text/plain": [
       "Export report to file:   0%|          | 0/1 [00:00<?, ?it/s]"
      ]
     },
     "metadata": {},
     "output_type": "display_data"
    },
    {
     "name": "stdout",
     "output_type": "stream",
     "text": [
      "EDA report saved to ../reports/eda/flights_training_eda_report.html\n"
     ]
    }
   ],
   "source": [
    "# generate_eda_report(\n",
    "#     flights_train,\n",
    "#     \"Flights Training set EDA Report\",\n",
    "#     \"../reports/eda/flights_training_eda_report.html\",\n",
    "#     minimal=False,\n",
    "#     explorative=True,\n",
    "# )"
   ]
  },
  {
   "cell_type": "markdown",
   "metadata": {},
   "source": [
    "### **5 Number Summary**"
   ]
  },
  {
   "cell_type": "code",
   "execution_count": 181,
   "metadata": {},
   "outputs": [
    {
     "data": {
      "text/html": [
       "<div>\n",
       "<style scoped>\n",
       "    .dataframe tbody tr th:only-of-type {\n",
       "        vertical-align: middle;\n",
       "    }\n",
       "\n",
       "    .dataframe tbody tr th {\n",
       "        vertical-align: top;\n",
       "    }\n",
       "\n",
       "    .dataframe thead th {\n",
       "        text-align: right;\n",
       "    }\n",
       "</style>\n",
       "<table border=\"1\" class=\"dataframe\">\n",
       "  <thead>\n",
       "    <tr style=\"text-align: right;\">\n",
       "      <th></th>\n",
       "      <th>time</th>\n",
       "      <th>distance</th>\n",
       "      <th>month</th>\n",
       "      <th>year</th>\n",
       "      <th>day</th>\n",
       "      <th>price</th>\n",
       "    </tr>\n",
       "  </thead>\n",
       "  <tbody>\n",
       "    <tr>\n",
       "      <th>count</th>\n",
       "      <td>89935.000000</td>\n",
       "      <td>89935.000000</td>\n",
       "      <td>89935.000000</td>\n",
       "      <td>89935.000000</td>\n",
       "      <td>89935.000000</td>\n",
       "      <td>89935.000000</td>\n",
       "    </tr>\n",
       "    <tr>\n",
       "      <th>mean</th>\n",
       "      <td>1.350871</td>\n",
       "      <td>519.917725</td>\n",
       "      <td>6.426597</td>\n",
       "      <td>2020.028176</td>\n",
       "      <td>15.760327</td>\n",
       "      <td>944.785095</td>\n",
       "    </tr>\n",
       "    <tr>\n",
       "      <th>std</th>\n",
       "      <td>0.548463</td>\n",
       "      <td>211.149643</td>\n",
       "      <td>3.745957</td>\n",
       "      <td>0.621773</td>\n",
       "      <td>8.800451</td>\n",
       "      <td>357.462952</td>\n",
       "    </tr>\n",
       "    <tr>\n",
       "      <th>min</th>\n",
       "      <td>0.440000</td>\n",
       "      <td>168.220001</td>\n",
       "      <td>1.000000</td>\n",
       "      <td>2019.000000</td>\n",
       "      <td>1.000000</td>\n",
       "      <td>301.510010</td>\n",
       "    </tr>\n",
       "    <tr>\n",
       "      <th>25%</th>\n",
       "      <td>0.850000</td>\n",
       "      <td>327.549988</td>\n",
       "      <td>3.000000</td>\n",
       "      <td>2020.000000</td>\n",
       "      <td>8.000000</td>\n",
       "      <td>667.000000</td>\n",
       "    </tr>\n",
       "    <tr>\n",
       "      <th>50%</th>\n",
       "      <td>1.440000</td>\n",
       "      <td>555.739990</td>\n",
       "      <td>6.000000</td>\n",
       "      <td>2020.000000</td>\n",
       "      <td>16.000000</td>\n",
       "      <td>889.070007</td>\n",
       "    </tr>\n",
       "    <tr>\n",
       "      <th>75%</th>\n",
       "      <td>1.760000</td>\n",
       "      <td>676.530029</td>\n",
       "      <td>10.000000</td>\n",
       "      <td>2020.000000</td>\n",
       "      <td>23.000000</td>\n",
       "      <td>1209.040039</td>\n",
       "    </tr>\n",
       "    <tr>\n",
       "      <th>max</th>\n",
       "      <td>2.440000</td>\n",
       "      <td>937.770020</td>\n",
       "      <td>12.000000</td>\n",
       "      <td>2021.000000</td>\n",
       "      <td>31.000000</td>\n",
       "      <td>1754.170044</td>\n",
       "    </tr>\n",
       "  </tbody>\n",
       "</table>\n",
       "</div>"
      ],
      "text/plain": [
       "               time      distance         month          year           day  \\\n",
       "count  89935.000000  89935.000000  89935.000000  89935.000000  89935.000000   \n",
       "mean       1.350871    519.917725      6.426597   2020.028176     15.760327   \n",
       "std        0.548463    211.149643      3.745957      0.621773      8.800451   \n",
       "min        0.440000    168.220001      1.000000   2019.000000      1.000000   \n",
       "25%        0.850000    327.549988      3.000000   2020.000000      8.000000   \n",
       "50%        1.440000    555.739990      6.000000   2020.000000     16.000000   \n",
       "75%        1.760000    676.530029     10.000000   2020.000000     23.000000   \n",
       "max        2.440000    937.770020     12.000000   2021.000000     31.000000   \n",
       "\n",
       "              price  \n",
       "count  89935.000000  \n",
       "mean     944.785095  \n",
       "std      357.462952  \n",
       "min      301.510010  \n",
       "25%      667.000000  \n",
       "50%      889.070007  \n",
       "75%     1209.040039  \n",
       "max     1754.170044  "
      ]
     },
     "execution_count": 181,
     "metadata": {},
     "output_type": "execute_result"
    }
   ],
   "source": [
    "flights_train.describe(include=\"number\")"
   ]
  },
  {
   "cell_type": "code",
   "execution_count": 182,
   "metadata": {},
   "outputs": [
    {
     "data": {
      "text/html": [
       "<div>\n",
       "<style scoped>\n",
       "    .dataframe tbody tr th:only-of-type {\n",
       "        vertical-align: middle;\n",
       "    }\n",
       "\n",
       "    .dataframe tbody tr th {\n",
       "        vertical-align: top;\n",
       "    }\n",
       "\n",
       "    .dataframe thead th {\n",
       "        text-align: right;\n",
       "    }\n",
       "</style>\n",
       "<table border=\"1\" class=\"dataframe\">\n",
       "  <thead>\n",
       "    <tr style=\"text-align: right;\">\n",
       "      <th></th>\n",
       "      <th>from</th>\n",
       "      <th>to</th>\n",
       "      <th>flightType</th>\n",
       "      <th>agency</th>\n",
       "    </tr>\n",
       "  </thead>\n",
       "  <tbody>\n",
       "    <tr>\n",
       "      <th>count</th>\n",
       "      <td>89935</td>\n",
       "      <td>89935</td>\n",
       "      <td>89935</td>\n",
       "      <td>89935</td>\n",
       "    </tr>\n",
       "    <tr>\n",
       "      <th>unique</th>\n",
       "      <td>9</td>\n",
       "      <td>9</td>\n",
       "      <td>3</td>\n",
       "      <td>3</td>\n",
       "    </tr>\n",
       "    <tr>\n",
       "      <th>top</th>\n",
       "      <td>Campo Grande (MS)</td>\n",
       "      <td>Florianopolis (SC)</td>\n",
       "      <td>firstClass</td>\n",
       "      <td>Rainbow</td>\n",
       "    </tr>\n",
       "    <tr>\n",
       "      <th>freq</th>\n",
       "      <td>11020</td>\n",
       "      <td>18337</td>\n",
       "      <td>38498</td>\n",
       "      <td>38557</td>\n",
       "    </tr>\n",
       "  </tbody>\n",
       "</table>\n",
       "</div>"
      ],
      "text/plain": [
       "                     from                  to  flightType   agency\n",
       "count               89935               89935       89935    89935\n",
       "unique                  9                   9           3        3\n",
       "top     Campo Grande (MS)  Florianopolis (SC)  firstClass  Rainbow\n",
       "freq                11020               18337       38498    38557"
      ]
     },
     "execution_count": 182,
     "metadata": {},
     "output_type": "execute_result"
    }
   ],
   "source": [
    "flights_train.describe(include=\"category\")"
   ]
  },
  {
   "cell_type": "code",
   "execution_count": 185,
   "metadata": {},
   "outputs": [
    {
     "data": {
      "text/html": [
       "<div>\n",
       "<style scoped>\n",
       "    .dataframe tbody tr th:only-of-type {\n",
       "        vertical-align: middle;\n",
       "    }\n",
       "\n",
       "    .dataframe tbody tr th {\n",
       "        vertical-align: top;\n",
       "    }\n",
       "\n",
       "    .dataframe thead th {\n",
       "        text-align: right;\n",
       "    }\n",
       "</style>\n",
       "<table border=\"1\" class=\"dataframe\">\n",
       "  <thead>\n",
       "    <tr style=\"text-align: right;\">\n",
       "      <th></th>\n",
       "      <th>date</th>\n",
       "    </tr>\n",
       "  </thead>\n",
       "  <tbody>\n",
       "    <tr>\n",
       "      <th>count</th>\n",
       "      <td>89935</td>\n",
       "    </tr>\n",
       "    <tr>\n",
       "      <th>mean</th>\n",
       "      <td>2020-07-09 01:49:17.696113920</td>\n",
       "    </tr>\n",
       "    <tr>\n",
       "      <th>min</th>\n",
       "      <td>2019-09-26 00:00:00</td>\n",
       "    </tr>\n",
       "    <tr>\n",
       "      <th>25%</th>\n",
       "      <td>2020-02-08 00:00:00</td>\n",
       "    </tr>\n",
       "    <tr>\n",
       "      <th>50%</th>\n",
       "      <td>2020-07-02 00:00:00</td>\n",
       "    </tr>\n",
       "    <tr>\n",
       "      <th>75%</th>\n",
       "      <td>2020-12-04 00:00:00</td>\n",
       "    </tr>\n",
       "    <tr>\n",
       "      <th>max</th>\n",
       "      <td>2021-05-22 00:00:00</td>\n",
       "    </tr>\n",
       "  </tbody>\n",
       "</table>\n",
       "</div>"
      ],
      "text/plain": [
       "                                date\n",
       "count                          89935\n",
       "mean   2020-07-09 01:49:17.696113920\n",
       "min              2019-09-26 00:00:00\n",
       "25%              2020-02-08 00:00:00\n",
       "50%              2020-07-02 00:00:00\n",
       "75%              2020-12-04 00:00:00\n",
       "max              2021-05-22 00:00:00"
      ]
     },
     "execution_count": 185,
     "metadata": {},
     "output_type": "execute_result"
    }
   ],
   "source": [
    "flights_train.describe(include=\"datetime\")"
   ]
  },
  {
   "cell_type": "code",
   "execution_count": 202,
   "metadata": {},
   "outputs": [
    {
     "name": "stdout",
     "output_type": "stream",
     "text": [
      "<class 'pandas.core.frame.DataFrame'>\n",
      "Index: 89935 entries, 0 to 89934\n",
      "Data columns (total 11 columns):\n",
      " #   Column      Non-Null Count  Dtype         \n",
      "---  ------      --------------  -----         \n",
      " 0   from        89935 non-null  category      \n",
      " 1   to          89935 non-null  category      \n",
      " 2   flightType  89935 non-null  category      \n",
      " 3   time        89935 non-null  float32       \n",
      " 4   distance    89935 non-null  float32       \n",
      " 5   agency      89935 non-null  category      \n",
      " 6   date        89935 non-null  datetime64[ns]\n",
      " 7   month       89935 non-null  uint8         \n",
      " 8   year        89935 non-null  uint16        \n",
      " 9   day         89935 non-null  uint8         \n",
      " 10  price       89935 non-null  float32       \n",
      "dtypes: category(4), datetime64[ns](1), float32(3), uint16(1), uint8(2)\n",
      "memory usage: 3.1 MB\n"
     ]
    }
   ],
   "source": [
    "flights_train.info()"
   ]
  },
  {
   "cell_type": "code",
   "execution_count": null,
   "metadata": {},
   "outputs": [],
   "source": [
    "flights_num_train = flights_train[[\"time\", \"distance\", \"date\", \"month\", \"day\", \"price\"]]"
   ]
  },
  {
   "cell_type": "markdown",
   "metadata": {},
   "source": [
    "### 📊 **Univariate Analysis of Numerical Features**"
   ]
  },
  {
   "cell_type": "markdown",
   "metadata": {},
   "source": [
    "#### **Distribution Of Numerical Columns**"
   ]
  },
  {
   "cell_type": "code",
   "execution_count": 186,
   "metadata": {},
   "outputs": [
    {
     "data": {
      "text/plain": [
       "['time', 'distance', 'month', 'year', 'day', 'price']"
      ]
     },
     "execution_count": 186,
     "metadata": {},
     "output_type": "execute_result"
    }
   ],
   "source": [
    "flights_train_num = flights_train.select_dtypes(include=[\"number\"]).columns.tolist()\n",
    "flights_train_num"
   ]
  },
  {
   "cell_type": "code",
   "execution_count": null,
   "metadata": {},
   "outputs": [
    {
     "data": {
      "image/png": "[encoded data removed]",
      "text/plain": [
       "<Figure size 1000x600 with 1 Axes>"
      ]
     },
     "metadata": {},
     "output_type": "display_data"
    },
    {
     "data": {
      "image/png": "[encoded data removed]",
      "text/plain": [
       "<Figure size 1000x600 with 1 Axes>"
      ]
     },
     "metadata": {},
     "output_type": "display_data"
    },
    {
     "data": {
      "image/png": "[encoded data removed]",
      "text/plain": [
       "<Figure size 1000x600 with 1 Axes>"
      ]
     },
     "metadata": {},
     "output_type": "display_data"
    },
    {
     "data": {
      "image/png": "[encoded data removed]",
      "text/plain": [
       "<Figure size 1000x600 with 1 Axes>"
      ]
     },
     "metadata": {},
     "output_type": "display_data"
    },
    {
     "data": {
      "image/png": "[encoded data removed]",
      "text/plain": [
       "<Figure size 1000x600 with 1 Axes>"
      ]
     },
     "metadata": {},
     "output_type": "display_data"
    },
    {
     "data": {
      "image/png": "[encoded data removed]",
      "text/plain": [
       "<Figure size 1000x600 with 1 Axes>"
      ]
     },
     "metadata": {},
     "output_type": "display_data"
    }
   ],
   "source": [
    "flights_distribution(flights_train, flights_train_num)"
   ]
  },
  {
   "cell_type": "markdown",
   "metadata": {},
   "source": []
  }
 ],
 "metadata": {
  "kernelspec": {
   "display_name": "travels_mlops",
   "language": "python",
   "name": "python3"
  },
  "language_info": {
   "codemirror_mode": {
    "name": "ipython",
    "version": 3
   },
   "file_extension": ".py",
   "mimetype": "text/x-python",
   "name": "python",
   "nbconvert_exporter": "python",
   "pygments_lexer": "ipython3",
   "version": "3.12.9"
  }
 },
 "nbformat": 4,
 "nbformat_minor": 2
}
